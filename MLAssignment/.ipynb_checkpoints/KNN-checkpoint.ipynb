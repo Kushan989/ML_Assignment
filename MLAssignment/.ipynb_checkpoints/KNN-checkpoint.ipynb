{
 "cells": [
  {
   "cell_type": "code",
   "execution_count": null,
   "metadata": {},
   "outputs": [],
   "source": [
    "import numpy as np\n",
    "import matplotlib.pyplot as plt\n",
    "import pandas as pd\n",
    "\n",
    "#import data set\n",
    "url = \"Adult_Census_Income_Binary_Classification_dataset.csv\"\n",
    "\n",
    "#Assign colum names to the data set\n",
    "#names = ['age', 'workclass','education','education-num','marital-status','occupation','relationship','race','sex','capital-gain','capital-loss','hours-per-week','native-country','income']\n",
    "\n",
    "#read dataset to pandas dataframe\n",
    "dataset = pd.read_csv(url)\n",
    "\n",
    "#print data set\n",
    "dataset\n",
    "\n",
    "#removing missing values\n",
    "#dataset.replace({'b': '.'}, {'b': np.nan})\n",
    "#from sklearn.preprocessing import Imputer\n",
    "#imputer = Imputer(missing_values='?',strategy='most_frequenrt',axis=0)\n",
    "#imputer = imputer.fit(dataset)\n",
    "#imputed_data = imputer.transform(dataset.values)\n",
    "#imputed_data\n",
    "\n",
    "#split dataset into its attributes and labels\n",
    "#X = dataset.iloc[:, :-1].values\n",
    "#Y = dataset.iloc[:, 13].values\n",
    "\n",
    "#training and test split\n",
    "#from sklearn.model_selection import train_test_split\n",
    "#X_train, X_test, Y_train, Y_test = train_test_split(X,Y, test_size = 0.20)\n",
    "\n",
    "#normalize features\n",
    "#from sklearn.preprocessing import StandardScaler\n",
    "#scaler = StandardScaler()\n",
    "#scaler.fit(X_train)\n",
    "\n",
    "#X_train = scaler.transform(X_train)\n",
    "#X_test = scaler.transform(X_test)\n",
    "\n",
    "#training \n",
    "#from sklearn.neighbors import KNeighborsClassifier\n",
    "#classifier = KNeighborsClassifier(n_neighbors=5)\n",
    "#classifier.fit(X_train,Y_train)\n",
    "\n",
    "#Predict\n",
    "#y_pred = classifier.predict(X_test)\n"
   ]
  },
  {
   "cell_type": "code",
   "execution_count": null,
   "metadata": {},
   "outputs": [],
   "source": []
  },
  {
   "cell_type": "code",
   "execution_count": null,
   "metadata": {},
   "outputs": [],
   "source": []
  }
 ],
 "metadata": {
  "kernelspec": {
   "display_name": "Python 3",
   "language": "python",
   "name": "python3"
  },
  "language_info": {
   "codemirror_mode": {
    "name": "ipython",
    "version": 3
   },
   "file_extension": ".py",
   "mimetype": "text/x-python",
   "name": "python",
   "nbconvert_exporter": "python",
   "pygments_lexer": "ipython3",
   "version": "3.6.5"
  }
 },
 "nbformat": 4,
 "nbformat_minor": 2
}
