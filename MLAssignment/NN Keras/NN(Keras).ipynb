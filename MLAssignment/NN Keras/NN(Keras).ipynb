{
 "cells": [
  {
   "cell_type": "code",
   "execution_count": 48,
   "metadata": {},
   "outputs": [],
   "source": [
    "from keras.models import Sequential\n",
    "from keras.layers import Dense\n",
    "from keras.utils import to_categorical\n",
    "import numpy as np\n",
    "import matplotlib.pyplot as plt\n",
    "import pandas as pd\n",
    "#fix random seed for reproducibility\n",
    "np.random.seed(10)"
   ]
  },
  {
   "cell_type": "code",
   "execution_count": 49,
   "metadata": {},
   "outputs": [
    {
     "name": "stdout",
     "output_type": "stream",
     "text": [
      "   age          workclass   education   education-num       marital-status  \\\n",
      "0   39          State-gov   Bachelors              13        Never-married   \n",
      "1   50   Self-emp-not-inc   Bachelors              13   Married-civ-spouse   \n",
      "2   38            Private     HS-grad               9             Divorced   \n",
      "\n",
      "           occupation    relationship    race    sex   capital-gain  \\\n",
      "0        Adm-clerical   Not-in-family   White   Male           2174   \n",
      "1     Exec-managerial         Husband   White   Male              0   \n",
      "2   Handlers-cleaners   Not-in-family   White   Male              0   \n",
      "\n",
      "    capital-loss   hours-per-week  native-country  income  \n",
      "0              0               40   United-States   <=50K  \n",
      "1              0               13   United-States   <=50K  \n",
      "2              0               40   United-States   <=50K  \n"
     ]
    }
   ],
   "source": [
    "#import data set\n",
    "url = \"Adult_Census_Income_Binary_Classification_dataset.csv\"\n",
    "#read dataset to pandas dataframe\n",
    "dataset = pd.read_csv(url)\n",
    "print(dataset[0:3])"
   ]
  },
  {
   "cell_type": "code",
   "execution_count": 50,
   "metadata": {},
   "outputs": [
    {
     "name": "stdout",
     "output_type": "stream",
     "text": [
      "   age          workclass   education   education-num       marital-status  \\\n",
      "0   39          State-gov   Bachelors              13        Never-married   \n",
      "1   50   Self-emp-not-inc   Bachelors              13   Married-civ-spouse   \n",
      "2   38            Private     HS-grad               9             Divorced   \n",
      "\n",
      "           occupation    relationship    race    sex   capital-gain  \\\n",
      "0        Adm-clerical   Not-in-family   White   Male           2174   \n",
      "1     Exec-managerial         Husband   White   Male              0   \n",
      "2   Handlers-cleaners   Not-in-family   White   Male              0   \n",
      "\n",
      "    capital-loss   hours-per-week  native-country  income  \n",
      "0              0               40   United-States   <=50K  \n",
      "1              0               13   United-States   <=50K  \n",
      "2              0               40   United-States   <=50K  \n"
     ]
    }
   ],
   "source": [
    "#changing missing values to NaN\n",
    "newdf = dataset.replace(r'\\?', np.nan, regex=True)\n",
    "print(newdf[0:3])"
   ]
  },
  {
   "cell_type": "code",
   "execution_count": 51,
   "metadata": {},
   "outputs": [
    {
     "data": {
      "text/plain": [
       "2399"
      ]
     },
     "execution_count": 51,
     "metadata": {},
     "output_type": "execute_result"
    }
   ],
   "source": [
    "#checking number of rows has at least one missing value\n",
    "newdf.isnull().any(axis=1).sum()"
   ]
  },
  {
   "cell_type": "code",
   "execution_count": 52,
   "metadata": {},
   "outputs": [
    {
     "name": "stdout",
     "output_type": "stream",
     "text": [
      "    age          workclass      education   education-num  \\\n",
      "0    39          State-gov      Bachelors              13   \n",
      "1    50   Self-emp-not-inc      Bachelors              13   \n",
      "2    38            Private        HS-grad               9   \n",
      "3    53            Private           11th               7   \n",
      "4    28            Private      Bachelors              13   \n",
      "5    37            Private        Masters              14   \n",
      "6    49            Private            9th               5   \n",
      "7    52   Self-emp-not-inc        HS-grad               9   \n",
      "8    31            Private        Masters              14   \n",
      "9    42            Private      Bachelors              13   \n",
      "10   37            Private   Some-college              10   \n",
      "11   30          State-gov      Bachelors              13   \n",
      "12   23            Private      Bachelors              13   \n",
      "13   32            Private     Assoc-acdm              12   \n",
      "15   34            Private        7th-8th               4   \n",
      "16   25   Self-emp-not-inc        HS-grad               9   \n",
      "17   32            Private        HS-grad               9   \n",
      "18   38            Private           11th               7   \n",
      "19   43   Self-emp-not-inc        Masters              14   \n",
      "20   40            Private      Doctorate              16   \n",
      "21   54            Private        HS-grad               9   \n",
      "22   35        Federal-gov            9th               5   \n",
      "23   43            Private           11th               7   \n",
      "24   59            Private        HS-grad               9   \n",
      "25   56          Local-gov      Bachelors              13   \n",
      "26   19            Private        HS-grad               9   \n",
      "28   39            Private        HS-grad               9   \n",
      "29   49            Private        HS-grad               9   \n",
      "30   23          Local-gov     Assoc-acdm              12   \n",
      "31   20            Private   Some-college              10   \n",
      "\n",
      "            marital-status          occupation    relationship  \\\n",
      "0            Never-married        Adm-clerical   Not-in-family   \n",
      "1       Married-civ-spouse     Exec-managerial         Husband   \n",
      "2                 Divorced   Handlers-cleaners   Not-in-family   \n",
      "3       Married-civ-spouse   Handlers-cleaners         Husband   \n",
      "4       Married-civ-spouse      Prof-specialty            Wife   \n",
      "5       Married-civ-spouse     Exec-managerial            Wife   \n",
      "6    Married-spouse-absent       Other-service   Not-in-family   \n",
      "7       Married-civ-spouse     Exec-managerial         Husband   \n",
      "8            Never-married      Prof-specialty   Not-in-family   \n",
      "9       Married-civ-spouse     Exec-managerial         Husband   \n",
      "10      Married-civ-spouse     Exec-managerial         Husband   \n",
      "11      Married-civ-spouse      Prof-specialty         Husband   \n",
      "12           Never-married        Adm-clerical       Own-child   \n",
      "13           Never-married               Sales   Not-in-family   \n",
      "15      Married-civ-spouse    Transport-moving         Husband   \n",
      "16           Never-married     Farming-fishing       Own-child   \n",
      "17           Never-married   Machine-op-inspct       Unmarried   \n",
      "18      Married-civ-spouse               Sales         Husband   \n",
      "19                Divorced     Exec-managerial       Unmarried   \n",
      "20      Married-civ-spouse      Prof-specialty         Husband   \n",
      "21               Separated       Other-service       Unmarried   \n",
      "22      Married-civ-spouse     Farming-fishing         Husband   \n",
      "23      Married-civ-spouse    Transport-moving         Husband   \n",
      "24                Divorced        Tech-support       Unmarried   \n",
      "25      Married-civ-spouse        Tech-support         Husband   \n",
      "26           Never-married        Craft-repair       Own-child   \n",
      "28                Divorced     Exec-managerial   Not-in-family   \n",
      "29      Married-civ-spouse        Craft-repair         Husband   \n",
      "30           Never-married     Protective-serv   Not-in-family   \n",
      "31           Never-married               Sales       Own-child   \n",
      "\n",
      "                   race      sex   capital-gain   capital-loss  \\\n",
      "0                 White     Male           2174              0   \n",
      "1                 White     Male              0              0   \n",
      "2                 White     Male              0              0   \n",
      "3                 Black     Male              0              0   \n",
      "4                 Black   Female              0              0   \n",
      "5                 White   Female              0              0   \n",
      "6                 Black   Female              0              0   \n",
      "7                 White     Male              0              0   \n",
      "8                 White   Female          14084              0   \n",
      "9                 White     Male           5178              0   \n",
      "10                Black     Male              0              0   \n",
      "11   Asian-Pac-Islander     Male              0              0   \n",
      "12                White   Female              0              0   \n",
      "13                Black     Male              0              0   \n",
      "15   Amer-Indian-Eskimo     Male              0              0   \n",
      "16                White     Male              0              0   \n",
      "17                White     Male              0              0   \n",
      "18                White     Male              0              0   \n",
      "19                White   Female              0              0   \n",
      "20                White     Male              0              0   \n",
      "21                Black   Female              0              0   \n",
      "22                Black     Male              0              0   \n",
      "23                White     Male              0           2042   \n",
      "24                White   Female              0              0   \n",
      "25                White     Male              0              0   \n",
      "26                White     Male              0              0   \n",
      "28                White     Male              0              0   \n",
      "29                White     Male              0              0   \n",
      "30                White     Male              0              0   \n",
      "31                Black     Male              0              0   \n",
      "\n",
      "     hours-per-week  native-country  income  \n",
      "0                40   United-States   <=50K  \n",
      "1                13   United-States   <=50K  \n",
      "2                40   United-States   <=50K  \n",
      "3                40   United-States   <=50K  \n",
      "4                40            Cuba   <=50K  \n",
      "5                40   United-States   <=50K  \n",
      "6                16         Jamaica   <=50K  \n",
      "7                45   United-States    >50K  \n",
      "8                50   United-States    >50K  \n",
      "9                40   United-States    >50K  \n",
      "10               80   United-States    >50K  \n",
      "11               40           India    >50K  \n",
      "12               30   United-States   <=50K  \n",
      "13               50   United-States   <=50K  \n",
      "15               45          Mexico   <=50K  \n",
      "16               35   United-States   <=50K  \n",
      "17               40   United-States   <=50K  \n",
      "18               50   United-States   <=50K  \n",
      "19               45   United-States    >50K  \n",
      "20               60   United-States    >50K  \n",
      "21               20   United-States   <=50K  \n",
      "22               40   United-States   <=50K  \n",
      "23               40   United-States   <=50K  \n",
      "24               40   United-States   <=50K  \n",
      "25               40   United-States    >50K  \n",
      "26               40   United-States   <=50K  \n",
      "28               80   United-States   <=50K  \n",
      "29               40   United-States   <=50K  \n",
      "30               52   United-States   <=50K  \n",
      "31               44   United-States   <=50K  \n"
     ]
    }
   ],
   "source": [
    "#removing missing values\n",
    "newdf=newdf.dropna()\n",
    "print(newdf[0:30])"
   ]
  },
  {
   "cell_type": "code",
   "execution_count": 53,
   "metadata": {},
   "outputs": [
    {
     "data": {
      "text/plain": [
       "age                 int64\n",
       " workclass         object\n",
       " education         object\n",
       " education-num      int64\n",
       " marital-status    object\n",
       " occupation        object\n",
       " relationship      object\n",
       " race              object\n",
       " sex               object\n",
       " capital-gain       int64\n",
       " capital-loss       int64\n",
       " hours-per-week     int64\n",
       " native-country    object\n",
       " income            object\n",
       "dtype: object"
      ]
     },
     "execution_count": 53,
     "metadata": {},
     "output_type": "execute_result"
    }
   ],
   "source": [
    "newdf.dtypes"
   ]
  },
  {
   "cell_type": "code",
   "execution_count": 54,
   "metadata": {},
   "outputs": [],
   "source": [
    "#label the categorical variables\n",
    "from sklearn.preprocessing import LabelEncoder\n",
    "le= LabelEncoder()\n",
    "data=newdf[' income']\n",
    "le.fit(data.values)\n",
    "newdf[' income']=le.transform(newdf[' income'])"
   ]
  },
  {
   "cell_type": "code",
   "execution_count": 41,
   "metadata": {},
   "outputs": [
    {
     "data": {
      "text/plain": [
       "age                 int64\n",
       " workclass         object\n",
       " education         object\n",
       " education-num      int64\n",
       " marital-status    object\n",
       " occupation        object\n",
       " relationship      object\n",
       " race              object\n",
       " sex               object\n",
       " capital-gain       int64\n",
       " capital-loss       int64\n",
       " hours-per-week     int64\n",
       " native-country    object\n",
       " income             int64\n",
       "dtype: object"
      ]
     },
     "execution_count": 41,
     "metadata": {},
     "output_type": "execute_result"
    }
   ],
   "source": [
    "newdf.dtypes"
   ]
  },
  {
   "cell_type": "code",
   "execution_count": 55,
   "metadata": {},
   "outputs": [],
   "source": [
    "#split and remove Y in dataset  \n",
    "Y = newdf.iloc[:, -1:].values\n",
    "newdf = newdf.drop(' income', 1)"
   ]
  },
  {
   "cell_type": "code",
   "execution_count": 56,
   "metadata": {},
   "outputs": [
    {
     "name": "stdout",
     "output_type": "stream",
     "text": [
      "['age' ' workclass' ' education' ' education-num' ' marital-status'\n",
      " ' occupation' ' relationship' ' race' ' sex' ' capital-gain'\n",
      " ' capital-loss' ' hours-per-week' ' native-country']\n"
     ]
    }
   ],
   "source": [
    "print(newdf.columns.values)"
   ]
  },
  {
   "cell_type": "code",
   "execution_count": 57,
   "metadata": {},
   "outputs": [],
   "source": [
    "#one hot the categorigal variables\n",
    "for col in newdf.columns.values:\n",
    "    if newdf[col].dtypes=='object':\n",
    "        one_hot = pd.get_dummies(newdf[col])\n",
    "        one_hot = one_hot.add_prefix(col)\n",
    "        newdf = newdf.join(one_hot)             #adding onehot encoded columns to dataframe\n",
    "        newdf = newdf.drop(col, 1)              #deleting categorical column"
   ]
  },
  {
   "cell_type": "code",
   "execution_count": 58,
   "metadata": {},
   "outputs": [
    {
     "name": "stdout",
     "output_type": "stream",
     "text": [
      "   age   education-num   capital-gain   capital-loss   hours-per-week  \\\n",
      "0   39              13           2174              0               40   \n",
      "1   50              13              0              0               13   \n",
      "2   38               9              0              0               40   \n",
      "\n",
      "    workclass Federal-gov   workclass Local-gov   workclass Private  \\\n",
      "0                       0                     0                   0   \n",
      "1                       0                     0                   0   \n",
      "2                       0                     0                   1   \n",
      "\n",
      "    workclass Self-emp-inc   workclass Self-emp-not-inc  \\\n",
      "0                        0                            0   \n",
      "1                        0                            1   \n",
      "2                        0                            0   \n",
      "\n",
      "              ...               native-country Portugal  \\\n",
      "0             ...                                     0   \n",
      "1             ...                                     0   \n",
      "2             ...                                     0   \n",
      "\n",
      "    native-country Puerto-Rico   native-country Scotland  \\\n",
      "0                            0                         0   \n",
      "1                            0                         0   \n",
      "2                            0                         0   \n",
      "\n",
      "    native-country South   native-country Taiwan   native-country Thailand  \\\n",
      "0                      0                       0                         0   \n",
      "1                      0                       0                         0   \n",
      "2                      0                       0                         0   \n",
      "\n",
      "    native-country Trinadad&Tobago   native-country United-States  \\\n",
      "0                                0                              1   \n",
      "1                                0                              1   \n",
      "2                                0                              1   \n",
      "\n",
      "    native-country Vietnam   native-country Yugoslavia  \n",
      "0                        0                           0  \n",
      "1                        0                           0  \n",
      "2                        0                           0  \n",
      "\n",
      "[3 rows x 103 columns]\n"
     ]
    }
   ],
   "source": [
    "print(newdf[0:3])"
   ]
  },
  {
   "cell_type": "code",
   "execution_count": 59,
   "metadata": {},
   "outputs": [
    {
     "data": {
      "text/plain": [
       "age                                           int64\n",
       " education-num                                int64\n",
       " capital-gain                                 int64\n",
       " capital-loss                                 int64\n",
       " hours-per-week                               int64\n",
       " workclass Federal-gov                        uint8\n",
       " workclass Local-gov                          uint8\n",
       " workclass Private                            uint8\n",
       " workclass Self-emp-inc                       uint8\n",
       " workclass Self-emp-not-inc                   uint8\n",
       " workclass State-gov                          uint8\n",
       " workclass Without-pay                        uint8\n",
       " education 10th                               uint8\n",
       " education 11th                               uint8\n",
       " education 12th                               uint8\n",
       " education 1st-4th                            uint8\n",
       " education 5th-6th                            uint8\n",
       " education 7th-8th                            uint8\n",
       " education 9th                                uint8\n",
       " education Assoc-acdm                         uint8\n",
       " education Assoc-voc                          uint8\n",
       " education Bachelors                          uint8\n",
       " education Doctorate                          uint8\n",
       " education HS-grad                            uint8\n",
       " education Masters                            uint8\n",
       " education Preschool                          uint8\n",
       " education Prof-school                        uint8\n",
       " education Some-college                       uint8\n",
       " marital-status Divorced                      uint8\n",
       " marital-status Married-AF-spouse             uint8\n",
       "                                              ...  \n",
       " native-country Greece                        uint8\n",
       " native-country Guatemala                     uint8\n",
       " native-country Haiti                         uint8\n",
       " native-country Holand-Netherlands            uint8\n",
       " native-country Honduras                      uint8\n",
       " native-country Hong                          uint8\n",
       " native-country Hungary                       uint8\n",
       " native-country India                         uint8\n",
       " native-country Iran                          uint8\n",
       " native-country Ireland                       uint8\n",
       " native-country Italy                         uint8\n",
       " native-country Jamaica                       uint8\n",
       " native-country Japan                         uint8\n",
       " native-country Laos                          uint8\n",
       " native-country Mexico                        uint8\n",
       " native-country Nicaragua                     uint8\n",
       " native-country Outlying-US(Guam-USVI-etc)    uint8\n",
       " native-country Peru                          uint8\n",
       " native-country Philippines                   uint8\n",
       " native-country Poland                        uint8\n",
       " native-country Portugal                      uint8\n",
       " native-country Puerto-Rico                   uint8\n",
       " native-country Scotland                      uint8\n",
       " native-country South                         uint8\n",
       " native-country Taiwan                        uint8\n",
       " native-country Thailand                      uint8\n",
       " native-country Trinadad&Tobago               uint8\n",
       " native-country United-States                 uint8\n",
       " native-country Vietnam                       uint8\n",
       " native-country Yugoslavia                    uint8\n",
       "Length: 103, dtype: object"
      ]
     },
     "execution_count": 59,
     "metadata": {},
     "output_type": "execute_result"
    }
   ],
   "source": [
    "newdf.dtypes"
   ]
  },
  {
   "cell_type": "code",
   "execution_count": 60,
   "metadata": {},
   "outputs": [],
   "source": [
    "#split dataset into its attributes and labels\n",
    "X = newdf.values"
   ]
  },
  {
   "cell_type": "code",
   "execution_count": 61,
   "metadata": {},
   "outputs": [
    {
     "name": "stdout",
     "output_type": "stream",
     "text": [
      "[[  39   13 2174    0   40    0    0    0    0    0    1    0    0    0\n",
      "     0    0    0    0    0    0    0    1    0    0    0    0    0    0\n",
      "     0    0    0    0    1    0    0    1    0    0    0    0    0    0\n",
      "     0    0    0    0    0    0    0    0    1    0    0    0    0    0\n",
      "     0    0    0    1    0    1    0    0    0    0    0    0    0    0\n",
      "     0    0    0    0    0    0    0    0    0    0    0    0    0    0\n",
      "     0    0    0    0    0    0    0    0    0    0    0    0    0    0\n",
      "     0    0    1    0    0]\n",
      " [  50   13    0    0   13    0    0    0    0    1    0    0    0    0\n",
      "     0    0    0    0    0    0    0    1    0    0    0    0    0    0\n",
      "     0    0    1    0    0    0    0    0    0    0    1    0    0    0\n",
      "     0    0    0    0    0    0    0    1    0    0    0    0    0    0\n",
      "     0    0    0    1    0    1    0    0    0    0    0    0    0    0\n",
      "     0    0    0    0    0    0    0    0    0    0    0    0    0    0\n",
      "     0    0    0    0    0    0    0    0    0    0    0    0    0    0\n",
      "     0    0    1    0    0]]\n"
     ]
    }
   ],
   "source": [
    "print(X[0:2])"
   ]
  },
  {
   "cell_type": "code",
   "execution_count": 62,
   "metadata": {},
   "outputs": [
    {
     "name": "stderr",
     "output_type": "stream",
     "text": [
      "H:\\Anaconda3\\lib\\site-packages\\sklearn\\utils\\validation.py:475: DataConversionWarning: Data with input dtype int64 was converted to float64 by MinMaxScaler.\n",
      "  warnings.warn(msg, DataConversionWarning)\n"
     ]
    }
   ],
   "source": [
    "#normalize features\n",
    "from sklearn.preprocessing import MinMaxScaler\n",
    "scalar= MinMaxScaler()\n",
    "scalar.fit(X)\n",
    "\n",
    "X = scalar.transform(X)"
   ]
  },
  {
   "cell_type": "code",
   "execution_count": 63,
   "metadata": {},
   "outputs": [
    {
     "name": "stdout",
     "output_type": "stream",
     "text": [
      "[[0.30136986 0.8        0.02174022 0.         0.39795918 0.\n",
      "  0.         0.         0.         0.         1.         0.\n",
      "  0.         0.         0.         0.         0.         0.\n",
      "  0.         0.         0.         1.         0.         0.\n",
      "  0.         0.         0.         0.         0.         0.\n",
      "  0.         0.         1.         0.         0.         1.\n",
      "  0.         0.         0.         0.         0.         0.\n",
      "  0.         0.         0.         0.         0.         0.\n",
      "  0.         0.         1.         0.         0.         0.\n",
      "  0.         0.         0.         0.         0.         1.\n",
      "  0.         1.         0.         0.         0.         0.\n",
      "  0.         0.         0.         0.         0.         0.\n",
      "  0.         0.         0.         0.         0.         0.\n",
      "  0.         0.         0.         0.         0.         0.\n",
      "  0.         0.         0.         0.         0.         0.\n",
      "  0.         0.         0.         0.         0.         0.\n",
      "  0.         0.         0.         0.         1.         0.\n",
      "  0.        ]\n",
      " [0.45205479 0.8        0.         0.         0.12244898 0.\n",
      "  0.         0.         0.         1.         0.         0.\n",
      "  0.         0.         0.         0.         0.         0.\n",
      "  0.         0.         0.         1.         0.         0.\n",
      "  0.         0.         0.         0.         0.         0.\n",
      "  1.         0.         0.         0.         0.         0.\n",
      "  0.         0.         1.         0.         0.         0.\n",
      "  0.         0.         0.         0.         0.         0.\n",
      "  0.         1.         0.         0.         0.         0.\n",
      "  0.         0.         0.         0.         0.         1.\n",
      "  0.         1.         0.         0.         0.         0.\n",
      "  0.         0.         0.         0.         0.         0.\n",
      "  0.         0.         0.         0.         0.         0.\n",
      "  0.         0.         0.         0.         0.         0.\n",
      "  0.         0.         0.         0.         0.         0.\n",
      "  0.         0.         0.         0.         0.         0.\n",
      "  0.         0.         0.         0.         1.         0.\n",
      "  0.        ]\n",
      " [0.28767123 0.53333333 0.         0.         0.39795918 0.\n",
      "  0.         1.         0.         0.         0.         0.\n",
      "  0.         0.         0.         0.         0.         0.\n",
      "  0.         0.         0.         0.         0.         1.\n",
      "  0.         0.         0.         0.         1.         0.\n",
      "  0.         0.         0.         0.         0.         0.\n",
      "  0.         0.         0.         0.         1.         0.\n",
      "  0.         0.         0.         0.         0.         0.\n",
      "  0.         0.         1.         0.         0.         0.\n",
      "  0.         0.         0.         0.         0.         1.\n",
      "  0.         1.         0.         0.         0.         0.\n",
      "  0.         0.         0.         0.         0.         0.\n",
      "  0.         0.         0.         0.         0.         0.\n",
      "  0.         0.         0.         0.         0.         0.\n",
      "  0.         0.         0.         0.         0.         0.\n",
      "  0.         0.         0.         0.         0.         0.\n",
      "  0.         0.         0.         0.         1.         0.\n",
      "  0.        ]]\n"
     ]
    }
   ],
   "source": [
    "print(X[0:3])"
   ]
  },
  {
   "cell_type": "code",
   "execution_count": 64,
   "metadata": {},
   "outputs": [],
   "source": [
    "#training and test split\n",
    "from sklearn.model_selection import train_test_split\n",
    "X_train, X_test, Y_train, Y_test = train_test_split(X,Y, test_size = 0.20)"
   ]
  },
  {
   "cell_type": "code",
   "execution_count": 65,
   "metadata": {},
   "outputs": [],
   "source": [
    "#create model\n",
    "model= Sequential()\n",
    "model.add(Dense(45,input_dim=103, kernel_initializer='uniform',activation='relu'))\n",
    "model.add(Dense(90,kernel_initializer='uniform', activation='relu'))\n",
    "model.add(Dense(1,kernel_initializer='uniform',activation='sigmoid'))\n",
    "\n"
   ]
  },
  {
   "cell_type": "code",
   "execution_count": 66,
   "metadata": {},
   "outputs": [],
   "source": [
    "#compile the model\n",
    "model.compile(loss='binary_crossentropy', optimizer='adam', metrics=['accuracy'])\n"
   ]
  },
  {
   "cell_type": "code",
   "execution_count": 67,
   "metadata": {},
   "outputs": [
    {
     "name": "stdout",
     "output_type": "stream",
     "text": [
      "Train on 19303 samples, validate on 4826 samples\n",
      "Epoch 1/150\n",
      "19303/19303 [==============================] - 1s 54us/step - loss: 0.3917 - acc: 0.8103 - val_loss: 0.3487 - val_acc: 0.8359\n",
      "Epoch 2/150\n",
      "19303/19303 [==============================] - 1s 42us/step - loss: 0.3438 - acc: 0.8387 - val_loss: 0.3515 - val_acc: 0.8353\n",
      "Epoch 3/150\n",
      "19303/19303 [==============================] - 1s 43us/step - loss: 0.3340 - acc: 0.8424 - val_loss: 0.3328 - val_acc: 0.8444\n",
      "Epoch 4/150\n",
      "19303/19303 [==============================] - 1s 46us/step - loss: 0.3287 - acc: 0.8443 - val_loss: 0.3295 - val_acc: 0.8442\n",
      "Epoch 5/150\n",
      "19303/19303 [==============================] - 1s 44us/step - loss: 0.3229 - acc: 0.8470 - val_loss: 0.3301 - val_acc: 0.8407\n",
      "Epoch 6/150\n",
      "19303/19303 [==============================] - 1s 48us/step - loss: 0.3199 - acc: 0.8491 - val_loss: 0.3289 - val_acc: 0.8442\n",
      "Epoch 7/150\n",
      "19303/19303 [==============================] - 1s 53us/step - loss: 0.3160 - acc: 0.8504 - val_loss: 0.3261 - val_acc: 0.8462\n",
      "Epoch 8/150\n",
      "19303/19303 [==============================] - 1s 46us/step - loss: 0.3142 - acc: 0.8516 - val_loss: 0.3269 - val_acc: 0.8409\n",
      "Epoch 9/150\n",
      "19303/19303 [==============================] - 1s 43us/step - loss: 0.3110 - acc: 0.8528 - val_loss: 0.3279 - val_acc: 0.8431\n"
     ]
    }
   ],
   "source": [
    "#fit the model\n",
    "from keras.callbacks import EarlyStopping \n",
    "early_stopping = EarlyStopping(monitor='val_loss',min_delta=0,patience=2,verbose=0,mode='auto')\n",
    "weights=model.get_weights()\n",
    "history=model.fit(X_train,Y_train,validation_split=0.2,epochs=150,callbacks = [early_stopping])\n"
   ]
  },
  {
   "cell_type": "code",
   "execution_count": 68,
   "metadata": {},
   "outputs": [
    {
     "data": {
      "image/png": "[encoded data removed]",
      "text/plain": [
       "<Figure size 432x288 with 1 Axes>"
      ]
     },
     "metadata": {},
     "output_type": "display_data"
    }
   ],
   "source": [
    "# Plot history of loss and validation loss against epoch\n",
    "plt.plot(np.array(history.history['loss']), label=\"train\")\n",
    "plt.plot(np.array(history.history['val_loss']), label=\"validation\")\n",
    "plt.xlabel(\"Epochs\")\n",
    "plt.ylabel(\"Loss\")\n",
    "plt.title(\"Training\")\n",
    "plt.legend()\n",
    "plt.show()"
   ]
  },
  {
   "cell_type": "code",
   "execution_count": 69,
   "metadata": {
    "scrolled": true
   },
   "outputs": [
    {
     "name": "stdout",
     "output_type": "stream",
     "text": [
      "Test loss: 0.32611503808845754\n",
      "Test accuracy: 0.8516492624198266\n"
     ]
    }
   ],
   "source": [
    "# Test the trained model on the test set\n",
    "score = model.evaluate(X_test, Y_test, verbose=0) \n",
    "print('Test loss:', score[0]) \n",
    "print('Test accuracy:', score[1])\n",
    "\n"
   ]
  },
  {
   "cell_type": "code",
   "execution_count": 70,
   "metadata": {},
   "outputs": [
    {
     "name": "stdout",
     "output_type": "stream",
     "text": [
      "[[4134  375]\n",
      " [ 520 1004]]\n",
      "             precision    recall  f1-score   support\n",
      "\n",
      "          0       0.89      0.92      0.90      4509\n",
      "          1       0.73      0.66      0.69      1524\n",
      "\n",
      "avg / total       0.85      0.85      0.85      6033\n",
      "\n"
     ]
    }
   ],
   "source": [
    "#Predict\n",
    "y_pred = model.predict_classes(X_test)\n",
    "\n",
    "#Evaluating the Algorithm\n",
    "from sklearn.metrics import classification_report, confusion_matrix  \n",
    "print(confusion_matrix(Y_test, y_pred))  \n",
    "print(classification_report(Y_test, y_pred)) "
   ]
  }
 ],
 "metadata": {
  "kernelspec": {
   "display_name": "Python 3",
   "language": "python",
   "name": "python3"
  },
  "language_info": {
   "codemirror_mode": {
    "name": "ipython",
    "version": 3
   },
   "file_extension": ".py",
   "mimetype": "text/x-python",
   "name": "python",
   "nbconvert_exporter": "python",
   "pygments_lexer": "ipython3",
   "version": "3.6.5"
  }
 },
 "nbformat": 4,
 "nbformat_minor": 2
}
