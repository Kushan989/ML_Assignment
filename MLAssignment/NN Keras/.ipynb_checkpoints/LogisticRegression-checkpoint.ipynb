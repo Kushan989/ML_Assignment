{
 "cells": [
  {
   "cell_type": "code",
   "execution_count": 142,
   "metadata": {},
   "outputs": [],
   "source": [
    "from keras.models import Sequential\n",
    "from keras.layers import Dense\n",
    "from keras.utils import to_categorical\n",
    "import numpy as np\n",
    "import matplotlib.pyplot as plt\n",
    "import pandas as pd\n",
    "#fix random seed for reproducibility\n",
    "np.random.seed(10)"
   ]
  },
  {
   "cell_type": "code",
   "execution_count": 143,
   "metadata": {},
   "outputs": [
    {
     "name": "stdout",
     "output_type": "stream",
     "text": [
      "   age          workclass   education   education-num       marital-status  \\\n",
      "0   39          State-gov   Bachelors              13        Never-married   \n",
      "1   50   Self-emp-not-inc   Bachelors              13   Married-civ-spouse   \n",
      "2   38            Private     HS-grad               9             Divorced   \n",
      "\n",
      "           occupation    relationship    race    sex   capital-gain  \\\n",
      "0        Adm-clerical   Not-in-family   White   Male           2174   \n",
      "1     Exec-managerial         Husband   White   Male              0   \n",
      "2   Handlers-cleaners   Not-in-family   White   Male              0   \n",
      "\n",
      "    capital-loss   hours-per-week  native-country  income  \n",
      "0              0               40   United-States   <=50K  \n",
      "1              0               13   United-States   <=50K  \n",
      "2              0               40   United-States   <=50K  \n"
     ]
    }
   ],
   "source": [
    "#import data set\n",
    "url = \"Adult_Census_Income_Binary_Classification_dataset.csv\"\n",
    "#read dataset to pandas dataframe\n",
    "dataset = pd.read_csv(url)\n",
    "print(dataset[0:3])"
   ]
  },
  {
   "cell_type": "code",
   "execution_count": 144,
   "metadata": {},
   "outputs": [
    {
     "name": "stdout",
     "output_type": "stream",
     "text": [
      "   age          workclass   education   education-num       marital-status  \\\n",
      "0   39          State-gov   Bachelors              13        Never-married   \n",
      "1   50   Self-emp-not-inc   Bachelors              13   Married-civ-spouse   \n",
      "2   38            Private     HS-grad               9             Divorced   \n",
      "\n",
      "           occupation    relationship    race    sex   capital-gain  \\\n",
      "0        Adm-clerical   Not-in-family   White   Male           2174   \n",
      "1     Exec-managerial         Husband   White   Male              0   \n",
      "2   Handlers-cleaners   Not-in-family   White   Male              0   \n",
      "\n",
      "    capital-loss   hours-per-week  native-country  income  \n",
      "0              0               40   United-States   <=50K  \n",
      "1              0               13   United-States   <=50K  \n",
      "2              0               40   United-States   <=50K  \n"
     ]
    }
   ],
   "source": [
    "#changing missing values to NaN\n",
    "newdf = dataset.replace(r'\\?', np.nan, regex=True)\n",
    "print(newdf[0:3])"
   ]
  },
  {
   "cell_type": "code",
   "execution_count": 145,
   "metadata": {},
   "outputs": [
    {
     "data": {
      "text/plain": [
       "4262"
      ]
     },
     "execution_count": 145,
     "metadata": {},
     "output_type": "execute_result"
    }
   ],
   "source": [
    "#checking number of rows has at least one missing value\n",
    "newdf.isnull().sum(axis = 1).sum()"
   ]
  },
  {
   "cell_type": "code",
   "execution_count": 146,
   "metadata": {},
   "outputs": [
    {
     "name": "stdout",
     "output_type": "stream",
     "text": [
      "    age          workclass      education   education-num  \\\n",
      "0    39          State-gov      Bachelors              13   \n",
      "1    50   Self-emp-not-inc      Bachelors              13   \n",
      "2    38            Private        HS-grad               9   \n",
      "3    53            Private           11th               7   \n",
      "4    28            Private      Bachelors              13   \n",
      "5    37            Private        Masters              14   \n",
      "6    49            Private            9th               5   \n",
      "7    52   Self-emp-not-inc        HS-grad               9   \n",
      "8    31            Private        Masters              14   \n",
      "9    42            Private      Bachelors              13   \n",
      "10   37            Private   Some-college              10   \n",
      "11   30          State-gov      Bachelors              13   \n",
      "12   23            Private      Bachelors              13   \n",
      "13   32            Private     Assoc-acdm              12   \n",
      "15   34            Private        7th-8th               4   \n",
      "16   25   Self-emp-not-inc        HS-grad               9   \n",
      "17   32            Private        HS-grad               9   \n",
      "18   38            Private           11th               7   \n",
      "19   43   Self-emp-not-inc        Masters              14   \n",
      "20   40            Private      Doctorate              16   \n",
      "21   54            Private        HS-grad               9   \n",
      "22   35        Federal-gov            9th               5   \n",
      "23   43            Private           11th               7   \n",
      "24   59            Private        HS-grad               9   \n",
      "25   56          Local-gov      Bachelors              13   \n",
      "26   19            Private        HS-grad               9   \n",
      "28   39            Private        HS-grad               9   \n",
      "29   49            Private        HS-grad               9   \n",
      "30   23          Local-gov     Assoc-acdm              12   \n",
      "31   20            Private   Some-college              10   \n",
      "\n",
      "            marital-status          occupation    relationship  \\\n",
      "0            Never-married        Adm-clerical   Not-in-family   \n",
      "1       Married-civ-spouse     Exec-managerial         Husband   \n",
      "2                 Divorced   Handlers-cleaners   Not-in-family   \n",
      "3       Married-civ-spouse   Handlers-cleaners         Husband   \n",
      "4       Married-civ-spouse      Prof-specialty            Wife   \n",
      "5       Married-civ-spouse     Exec-managerial            Wife   \n",
      "6    Married-spouse-absent       Other-service   Not-in-family   \n",
      "7       Married-civ-spouse     Exec-managerial         Husband   \n",
      "8            Never-married      Prof-specialty   Not-in-family   \n",
      "9       Married-civ-spouse     Exec-managerial         Husband   \n",
      "10      Married-civ-spouse     Exec-managerial         Husband   \n",
      "11      Married-civ-spouse      Prof-specialty         Husband   \n",
      "12           Never-married        Adm-clerical       Own-child   \n",
      "13           Never-married               Sales   Not-in-family   \n",
      "15      Married-civ-spouse    Transport-moving         Husband   \n",
      "16           Never-married     Farming-fishing       Own-child   \n",
      "17           Never-married   Machine-op-inspct       Unmarried   \n",
      "18      Married-civ-spouse               Sales         Husband   \n",
      "19                Divorced     Exec-managerial       Unmarried   \n",
      "20      Married-civ-spouse      Prof-specialty         Husband   \n",
      "21               Separated       Other-service       Unmarried   \n",
      "22      Married-civ-spouse     Farming-fishing         Husband   \n",
      "23      Married-civ-spouse    Transport-moving         Husband   \n",
      "24                Divorced        Tech-support       Unmarried   \n",
      "25      Married-civ-spouse        Tech-support         Husband   \n",
      "26           Never-married        Craft-repair       Own-child   \n",
      "28                Divorced     Exec-managerial   Not-in-family   \n",
      "29      Married-civ-spouse        Craft-repair         Husband   \n",
      "30           Never-married     Protective-serv   Not-in-family   \n",
      "31           Never-married               Sales       Own-child   \n",
      "\n",
      "                   race      sex   capital-gain   capital-loss  \\\n",
      "0                 White     Male           2174              0   \n",
      "1                 White     Male              0              0   \n",
      "2                 White     Male              0              0   \n",
      "3                 Black     Male              0              0   \n",
      "4                 Black   Female              0              0   \n",
      "5                 White   Female              0              0   \n",
      "6                 Black   Female              0              0   \n",
      "7                 White     Male              0              0   \n",
      "8                 White   Female          14084              0   \n",
      "9                 White     Male           5178              0   \n",
      "10                Black     Male              0              0   \n",
      "11   Asian-Pac-Islander     Male              0              0   \n",
      "12                White   Female              0              0   \n",
      "13                Black     Male              0              0   \n",
      "15   Amer-Indian-Eskimo     Male              0              0   \n",
      "16                White     Male              0              0   \n",
      "17                White     Male              0              0   \n",
      "18                White     Male              0              0   \n",
      "19                White   Female              0              0   \n",
      "20                White     Male              0              0   \n",
      "21                Black   Female              0              0   \n",
      "22                Black     Male              0              0   \n",
      "23                White     Male              0           2042   \n",
      "24                White   Female              0              0   \n",
      "25                White     Male              0              0   \n",
      "26                White     Male              0              0   \n",
      "28                White     Male              0              0   \n",
      "29                White     Male              0              0   \n",
      "30                White     Male              0              0   \n",
      "31                Black     Male              0              0   \n",
      "\n",
      "     hours-per-week  native-country  income  \n",
      "0                40   United-States   <=50K  \n",
      "1                13   United-States   <=50K  \n",
      "2                40   United-States   <=50K  \n",
      "3                40   United-States   <=50K  \n",
      "4                40            Cuba   <=50K  \n",
      "5                40   United-States   <=50K  \n",
      "6                16         Jamaica   <=50K  \n",
      "7                45   United-States    >50K  \n",
      "8                50   United-States    >50K  \n",
      "9                40   United-States    >50K  \n",
      "10               80   United-States    >50K  \n",
      "11               40           India    >50K  \n",
      "12               30   United-States   <=50K  \n",
      "13               50   United-States   <=50K  \n",
      "15               45          Mexico   <=50K  \n",
      "16               35   United-States   <=50K  \n",
      "17               40   United-States   <=50K  \n",
      "18               50   United-States   <=50K  \n",
      "19               45   United-States    >50K  \n",
      "20               60   United-States    >50K  \n",
      "21               20   United-States   <=50K  \n",
      "22               40   United-States   <=50K  \n",
      "23               40   United-States   <=50K  \n",
      "24               40   United-States   <=50K  \n",
      "25               40   United-States    >50K  \n",
      "26               40   United-States   <=50K  \n",
      "28               80   United-States   <=50K  \n",
      "29               40   United-States   <=50K  \n",
      "30               52   United-States   <=50K  \n",
      "31               44   United-States   <=50K  \n"
     ]
    }
   ],
   "source": [
    "#removing missing values\n",
    "newdf=newdf.dropna()\n",
    "print(newdf[0:30])"
   ]
  },
  {
   "cell_type": "code",
   "execution_count": 147,
   "metadata": {},
   "outputs": [
    {
     "data": {
      "text/plain": [
       "age                 int64\n",
       " workclass         object\n",
       " education         object\n",
       " education-num      int64\n",
       " marital-status    object\n",
       " occupation        object\n",
       " relationship      object\n",
       " race              object\n",
       " sex               object\n",
       " capital-gain       int64\n",
       " capital-loss       int64\n",
       " hours-per-week     int64\n",
       " native-country    object\n",
       " income            object\n",
       "dtype: object"
      ]
     },
     "execution_count": 147,
     "metadata": {},
     "output_type": "execute_result"
    }
   ],
   "source": [
    "newdf.dtypes"
   ]
  },
  {
   "cell_type": "code",
   "execution_count": 148,
   "metadata": {},
   "outputs": [],
   "source": [
    "#label the categorical variables\n",
    "from sklearn.preprocessing import LabelEncoder\n",
    "le= LabelEncoder()\n",
    "for col in newdf.columns.values:\n",
    "    if newdf[col].dtypes=='object':\n",
    "        data=newdf[col]\n",
    "        le.fit(data.values)\n",
    "        newdf[col]=le.transform(newdf[col])"
   ]
  },
  {
   "cell_type": "code",
   "execution_count": 149,
   "metadata": {},
   "outputs": [
    {
     "name": "stdout",
     "output_type": "stream",
     "text": [
      "   age   workclass   education   education-num   marital-status   occupation  \\\n",
      "0   39           5           9              13                4            0   \n",
      "1   50           4           9              13                2            3   \n",
      "2   38           2          11               9                0            5   \n",
      "3   53           2           1               7                2            5   \n",
      "4   28           2           9              13                2            9   \n",
      "\n",
      "    relationship   race   sex   capital-gain   capital-loss   hours-per-week  \\\n",
      "0              1      4     1           2174              0               40   \n",
      "1              0      4     1              0              0               13   \n",
      "2              1      4     1              0              0               40   \n",
      "3              0      2     1              0              0               40   \n",
      "4              5      2     0              0              0               40   \n",
      "\n",
      "    native-country   income  \n",
      "0               38        0  \n",
      "1               38        0  \n",
      "2               38        0  \n",
      "3               38        0  \n",
      "4                4        0  \n"
     ]
    }
   ],
   "source": [
    "print(newdf[0:5])"
   ]
  },
  {
   "cell_type": "code",
   "execution_count": 150,
   "metadata": {},
   "outputs": [],
   "source": [
    "#split dataset into its attributes and labels\n",
    "X = newdf.iloc[:, :-1].values\n",
    "Y = newdf.iloc[:, 13].values"
   ]
  },
  {
   "cell_type": "code",
   "execution_count": 151,
   "metadata": {},
   "outputs": [
    {
     "name": "stderr",
     "output_type": "stream",
     "text": [
      "H:\\Anaconda3\\lib\\site-packages\\sklearn\\utils\\validation.py:475: DataConversionWarning: Data with input dtype int64 was converted to float64 by MinMaxScaler.\n",
      "  warnings.warn(msg, DataConversionWarning)\n"
     ]
    }
   ],
   "source": [
    "#normalize features\n",
    "from sklearn.preprocessing import MinMaxScaler\n",
    "scalar= MinMaxScaler()\n",
    "scalar.fit(X)\n",
    "\n",
    "X = scalar.transform(X)"
   ]
  },
  {
   "cell_type": "code",
   "execution_count": 152,
   "metadata": {},
   "outputs": [
    {
     "name": "stdout",
     "output_type": "stream",
     "text": [
      "[[0.30136986 0.83333333 0.6        0.8        0.66666667 0.\n",
      "  0.2        1.         1.         0.02174022 0.         0.39795918\n",
      "  0.95      ]\n",
      " [0.45205479 0.66666667 0.6        0.8        0.33333333 0.23076923\n",
      "  0.         1.         1.         0.         0.         0.12244898\n",
      "  0.95      ]\n",
      " [0.28767123 0.33333333 0.73333333 0.53333333 0.         0.38461538\n",
      "  0.2        1.         1.         0.         0.         0.39795918\n",
      "  0.95      ]\n",
      " [0.49315068 0.33333333 0.06666667 0.4        0.33333333 0.38461538\n",
      "  0.         0.5        1.         0.         0.         0.39795918\n",
      "  0.95      ]\n",
      " [0.15068493 0.33333333 0.6        0.8        0.33333333 0.69230769\n",
      "  1.         0.5        0.         0.         0.         0.39795918\n",
      "  0.1       ]]\n"
     ]
    }
   ],
   "source": [
    "print(X[0:5])"
   ]
  },
  {
   "cell_type": "code",
   "execution_count": 153,
   "metadata": {},
   "outputs": [],
   "source": [
    "#training and test split\n",
    "from sklearn.model_selection import train_test_split\n",
    "X_train, X_test, Y_train, Y_test = train_test_split(X,Y, test_size = 0.20)"
   ]
  },
  {
   "cell_type": "code",
   "execution_count": 134,
   "metadata": {},
   "outputs": [],
   "source": [
    "from sklearn.neural_network import MLPClassifier\n",
    "nn=MLPClassifier(activation='logistic',solver='sgd',hidden_layer_sizes=(25,50),random_state=1)"
   ]
  },
  {
   "cell_type": "code",
   "execution_count": 135,
   "metadata": {},
   "outputs": [
    {
     "data": {
      "text/plain": [
       "MLPClassifier(activation='relu', alpha=0.0001, batch_size='auto', beta_1=0.9,\n",
       "       beta_2=0.999, early_stopping=False, epsilon=1e-08,\n",
       "       hidden_layer_sizes=(25, 50), learning_rate='constant',\n",
       "       learning_rate_init=0.001, max_iter=200, momentum=0.9,\n",
       "       nesterovs_momentum=True, power_t=0.5, random_state=1, shuffle=True,\n",
       "       solver='sgd', tol=0.0001, validation_fraction=0.1, verbose=False,\n",
       "       warm_start=False)"
      ]
     },
     "execution_count": 135,
     "metadata": {},
     "output_type": "execute_result"
    }
   ],
   "source": [
    "nn.fit(X_train,Y_train)"
   ]
  },
  {
   "cell_type": "code",
   "execution_count": 136,
   "metadata": {},
   "outputs": [],
   "source": [
    "pred=nn.predict(X_test)"
   ]
  },
  {
   "cell_type": "code",
   "execution_count": 137,
   "metadata": {},
   "outputs": [],
   "source": [
    "count=0\n",
    "for i in range(len(pred)):\n",
    "    if pred[i]==Y_test[i]:\n",
    "        count=count+1\n"
   ]
  },
  {
   "cell_type": "code",
   "execution_count": 138,
   "metadata": {},
   "outputs": [
    {
     "data": {
      "text/plain": [
       "5071"
      ]
     },
     "execution_count": 138,
     "metadata": {},
     "output_type": "execute_result"
    }
   ],
   "source": [
    "count\n"
   ]
  },
  {
   "cell_type": "code",
   "execution_count": 139,
   "metadata": {},
   "outputs": [
    {
     "data": {
      "text/plain": [
       "6033"
      ]
     },
     "execution_count": 139,
     "metadata": {},
     "output_type": "execute_result"
    }
   ],
   "source": [
    "len(pred)"
   ]
  },
  {
   "cell_type": "code",
   "execution_count": 140,
   "metadata": {},
   "outputs": [
    {
     "data": {
      "text/plain": [
       "0.8405436764462125"
      ]
     },
     "execution_count": 140,
     "metadata": {},
     "output_type": "execute_result"
    }
   ],
   "source": [
    "count/len(pred)"
   ]
  },
  {
   "cell_type": "code",
   "execution_count": 154,
   "metadata": {},
   "outputs": [],
   "source": [
    "#define and fit the final model\n",
    "model = Sequential()\n",
    "model.add(Dense(1, input_dim=13,kernel_initializer='uniform', activation='sigmoid'))\n",
    "model.compile(loss='binary_crossentropy', optimizer='rmsprop', metrics=['accuracy'])\n"
   ]
  },
  {
   "cell_type": "code",
   "execution_count": 170,
   "metadata": {},
   "outputs": [
    {
     "name": "stdout",
     "output_type": "stream",
     "text": [
      "Train on 19303 samples, validate on 4826 samples\n",
      "Epoch 1/1000\n",
      "19303/19303 [==============================] - 1s 35us/step - loss: 0.3949 - acc: 0.8194 - val_loss: 0.3910 - val_acc: 0.8212\n",
      "Epoch 2/1000\n",
      "19303/19303 [==============================] - 1s 37us/step - loss: 0.3950 - acc: 0.8201 - val_loss: 0.3907 - val_acc: 0.8199\n",
      "Epoch 3/1000\n",
      "19303/19303 [==============================] - 1s 35us/step - loss: 0.3949 - acc: 0.8203 - val_loss: 0.3907 - val_acc: 0.8199\n",
      "Epoch 4/1000\n",
      "19303/19303 [==============================] - 1s 36us/step - loss: 0.3949 - acc: 0.8197 - val_loss: 0.3907 - val_acc: 0.8197\n",
      "Epoch 5/1000\n",
      "19303/19303 [==============================] - 1s 35us/step - loss: 0.3948 - acc: 0.8197 - val_loss: 0.3908 - val_acc: 0.8189\n",
      "Epoch 6/1000\n",
      "19303/19303 [==============================] - 1s 36us/step - loss: 0.3947 - acc: 0.8204 - val_loss: 0.3909 - val_acc: 0.8214\n",
      "Epoch 7/1000\n",
      "19303/19303 [==============================] - 1s 35us/step - loss: 0.3948 - acc: 0.8205 - val_loss: 0.3907 - val_acc: 0.8206\n",
      "Epoch 8/1000\n",
      "19303/19303 [==============================] - 1s 35us/step - loss: 0.3948 - acc: 0.8207 - val_loss: 0.3906 - val_acc: 0.8203\n",
      "Epoch 9/1000\n",
      "19303/19303 [==============================] - 1s 37us/step - loss: 0.3947 - acc: 0.8202 - val_loss: 0.3906 - val_acc: 0.8189\n",
      "Epoch 10/1000\n",
      "19303/19303 [==============================] - 1s 37us/step - loss: 0.3947 - acc: 0.8198 - val_loss: 0.3908 - val_acc: 0.8218\n",
      "Epoch 11/1000\n",
      "19303/19303 [==============================] - 1s 36us/step - loss: 0.3947 - acc: 0.8199 - val_loss: 0.3905 - val_acc: 0.8189\n",
      "Epoch 12/1000\n",
      "19303/19303 [==============================] - 1s 37us/step - loss: 0.3946 - acc: 0.8201 - val_loss: 0.3907 - val_acc: 0.8218\n",
      "Epoch 13/1000\n",
      "19303/19303 [==============================] - 1s 38us/step - loss: 0.3946 - acc: 0.8206 - val_loss: 0.3906 - val_acc: 0.8189\n",
      "Epoch 14/1000\n",
      "19303/19303 [==============================] - 1s 36us/step - loss: 0.3945 - acc: 0.8205 - val_loss: 0.3907 - val_acc: 0.8189\n"
     ]
    }
   ],
   "source": [
    "#fit the model\n",
    "from keras.callbacks import EarlyStopping \n",
    "early_stopping = EarlyStopping(monitor='val_loss',min_delta=0,patience=3,verbose=0,mode='auto')\n",
    "weights=model.get_weights()\n",
    "history=model.fit(X_train,Y_train,validation_split=0.2,epochs=1000,callbacks = [early_stopping])"
   ]
  },
  {
   "cell_type": "code",
   "execution_count": 171,
   "metadata": {},
   "outputs": [
    {
     "data": {
      "image/png": "[encoded data removed]",
      "text/plain": [
       "<Figure size 432x288 with 1 Axes>"
      ]
     },
     "metadata": {},
     "output_type": "display_data"
    }
   ],
   "source": [
    "# Plot history of loss and validation loss against epoch\n",
    "plt.plot(np.array(history.history['loss']), label=\"train\")\n",
    "plt.plot(np.array(history.history['val_loss']), label=\"validation\")\n",
    "plt.xlabel(\"Epochs\")\n",
    "plt.ylabel(\"Loss\")\n",
    "plt.title(\"Training\")\n",
    "plt.legend()\n",
    "plt.show()"
   ]
  },
  {
   "cell_type": "code",
   "execution_count": 172,
   "metadata": {},
   "outputs": [
    {
     "name": "stdout",
     "output_type": "stream",
     "text": [
      "Test loss: 0.38962985252871674\n",
      "Test accuracy: 0.8208188297992398\n"
     ]
    }
   ],
   "source": [
    "# Test the trained model on the test set\n",
    "score = model.evaluate(X_test, Y_test, verbose=0) \n",
    "print('Test loss:', score[0]) \n",
    "print('Test accuracy:', score[1])"
   ]
  },
  {
   "cell_type": "code",
   "execution_count": 173,
   "metadata": {},
   "outputs": [
    {
     "name": "stdout",
     "output_type": "stream",
     "text": [
      "[[4263  246]\n",
      " [ 835  689]]\n",
      "             precision    recall  f1-score   support\n",
      "\n",
      "          0       0.84      0.95      0.89      4509\n",
      "          1       0.74      0.45      0.56      1524\n",
      "\n",
      "avg / total       0.81      0.82      0.80      6033\n",
      "\n"
     ]
    }
   ],
   "source": [
    "#Predict\n",
    "y_pred = model.predict_classes(X_test)\n",
    "\n",
    "#Evaluating the Algorithm\n",
    "from sklearn.metrics import classification_report, confusion_matrix  \n",
    "print(confusion_matrix(Y_test, y_pred))  \n",
    "print(classification_report(Y_test, y_pred)) "
   ]
  }
 ],
 "metadata": {
  "kernelspec": {
   "display_name": "Python 3",
   "language": "python",
   "name": "python3"
  },
  "language_info": {
   "codemirror_mode": {
    "name": "ipython",
    "version": 3
   },
   "file_extension": ".py",
   "mimetype": "text/x-python",
   "name": "python",
   "nbconvert_exporter": "python",
   "pygments_lexer": "ipython3",
   "version": "3.6.5"
  }
 },
 "nbformat": 4,
 "nbformat_minor": 2
}
