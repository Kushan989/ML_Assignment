{
 "cells": [
  {
   "cell_type": "code",
   "execution_count": 124,
   "metadata": {},
   "outputs": [],
   "source": [
    "from keras.models import Sequential\n",
    "from keras.layers import Dense\n",
    "from keras.utils import to_categorical\n",
    "import numpy as np\n",
    "import matplotlib.pyplot as plt\n",
    "import pandas as pd\n",
    "#fix random seed for reproducibility\n",
    "np.random.seed(10)"
   ]
  },
  {
   "cell_type": "code",
   "execution_count": 125,
   "metadata": {},
   "outputs": [
    {
     "name": "stdout",
     "output_type": "stream",
     "text": [
      "   age          workclass   education   education-num       marital-status  \\\n",
      "0   39          State-gov   Bachelors              13        Never-married   \n",
      "1   50   Self-emp-not-inc   Bachelors              13   Married-civ-spouse   \n",
      "2   38            Private     HS-grad               9             Divorced   \n",
      "\n",
      "           occupation    relationship    race    sex   capital-gain  \\\n",
      "0        Adm-clerical   Not-in-family   White   Male           2174   \n",
      "1     Exec-managerial         Husband   White   Male              0   \n",
      "2   Handlers-cleaners   Not-in-family   White   Male              0   \n",
      "\n",
      "    capital-loss   hours-per-week  native-country  income  \n",
      "0              0               40   United-States   <=50K  \n",
      "1              0               13   United-States   <=50K  \n",
      "2              0               40   United-States   <=50K  \n"
     ]
    }
   ],
   "source": [
    "#import data set\n",
    "url = \"Adult_Census_Income_Binary_Classification_dataset.csv\"\n",
    "#read dataset to pandas dataframe\n",
    "dataset = pd.read_csv(url)\n",
    "print(dataset[0:3])"
   ]
  },
  {
   "cell_type": "code",
   "execution_count": 126,
   "metadata": {},
   "outputs": [
    {
     "name": "stdout",
     "output_type": "stream",
     "text": [
      "   age          workclass   education   education-num       marital-status  \\\n",
      "0   39          State-gov   Bachelors              13        Never-married   \n",
      "1   50   Self-emp-not-inc   Bachelors              13   Married-civ-spouse   \n",
      "2   38            Private     HS-grad               9             Divorced   \n",
      "\n",
      "           occupation    relationship    race    sex   capital-gain  \\\n",
      "0        Adm-clerical   Not-in-family   White   Male           2174   \n",
      "1     Exec-managerial         Husband   White   Male              0   \n",
      "2   Handlers-cleaners   Not-in-family   White   Male              0   \n",
      "\n",
      "    capital-loss   hours-per-week  native-country  income  \n",
      "0              0               40   United-States   <=50K  \n",
      "1              0               13   United-States   <=50K  \n",
      "2              0               40   United-States   <=50K  \n"
     ]
    }
   ],
   "source": [
    "#changing missing values to NaN\n",
    "newdf = dataset.replace(r'\\?', np.nan, regex=True)\n",
    "print(newdf[0:3])"
   ]
  },
  {
   "cell_type": "code",
   "execution_count": 127,
   "metadata": {},
   "outputs": [
    {
     "data": {
      "text/plain": [
       "2399"
      ]
     },
     "execution_count": 127,
     "metadata": {},
     "output_type": "execute_result"
    }
   ],
   "source": [
    "#checking number of rows has at least one missing value\n",
    "newdf.isnull().any(axis=1).sum()"
   ]
  },
  {
   "cell_type": "code",
   "execution_count": 128,
   "metadata": {},
   "outputs": [
    {
     "name": "stdout",
     "output_type": "stream",
     "text": [
      "    age          workclass      education   education-num  \\\n",
      "0    39          State-gov      Bachelors              13   \n",
      "1    50   Self-emp-not-inc      Bachelors              13   \n",
      "2    38            Private        HS-grad               9   \n",
      "3    53            Private           11th               7   \n",
      "4    28            Private      Bachelors              13   \n",
      "5    37            Private        Masters              14   \n",
      "6    49            Private            9th               5   \n",
      "7    52   Self-emp-not-inc        HS-grad               9   \n",
      "8    31            Private        Masters              14   \n",
      "9    42            Private      Bachelors              13   \n",
      "10   37            Private   Some-college              10   \n",
      "11   30          State-gov      Bachelors              13   \n",
      "12   23            Private      Bachelors              13   \n",
      "13   32            Private     Assoc-acdm              12   \n",
      "15   34            Private        7th-8th               4   \n",
      "16   25   Self-emp-not-inc        HS-grad               9   \n",
      "17   32            Private        HS-grad               9   \n",
      "18   38            Private           11th               7   \n",
      "19   43   Self-emp-not-inc        Masters              14   \n",
      "20   40            Private      Doctorate              16   \n",
      "21   54            Private        HS-grad               9   \n",
      "22   35        Federal-gov            9th               5   \n",
      "23   43            Private           11th               7   \n",
      "24   59            Private        HS-grad               9   \n",
      "25   56          Local-gov      Bachelors              13   \n",
      "26   19            Private        HS-grad               9   \n",
      "28   39            Private        HS-grad               9   \n",
      "29   49            Private        HS-grad               9   \n",
      "30   23          Local-gov     Assoc-acdm              12   \n",
      "31   20            Private   Some-college              10   \n",
      "\n",
      "            marital-status          occupation    relationship  \\\n",
      "0            Never-married        Adm-clerical   Not-in-family   \n",
      "1       Married-civ-spouse     Exec-managerial         Husband   \n",
      "2                 Divorced   Handlers-cleaners   Not-in-family   \n",
      "3       Married-civ-spouse   Handlers-cleaners         Husband   \n",
      "4       Married-civ-spouse      Prof-specialty            Wife   \n",
      "5       Married-civ-spouse     Exec-managerial            Wife   \n",
      "6    Married-spouse-absent       Other-service   Not-in-family   \n",
      "7       Married-civ-spouse     Exec-managerial         Husband   \n",
      "8            Never-married      Prof-specialty   Not-in-family   \n",
      "9       Married-civ-spouse     Exec-managerial         Husband   \n",
      "10      Married-civ-spouse     Exec-managerial         Husband   \n",
      "11      Married-civ-spouse      Prof-specialty         Husband   \n",
      "12           Never-married        Adm-clerical       Own-child   \n",
      "13           Never-married               Sales   Not-in-family   \n",
      "15      Married-civ-spouse    Transport-moving         Husband   \n",
      "16           Never-married     Farming-fishing       Own-child   \n",
      "17           Never-married   Machine-op-inspct       Unmarried   \n",
      "18      Married-civ-spouse               Sales         Husband   \n",
      "19                Divorced     Exec-managerial       Unmarried   \n",
      "20      Married-civ-spouse      Prof-specialty         Husband   \n",
      "21               Separated       Other-service       Unmarried   \n",
      "22      Married-civ-spouse     Farming-fishing         Husband   \n",
      "23      Married-civ-spouse    Transport-moving         Husband   \n",
      "24                Divorced        Tech-support       Unmarried   \n",
      "25      Married-civ-spouse        Tech-support         Husband   \n",
      "26           Never-married        Craft-repair       Own-child   \n",
      "28                Divorced     Exec-managerial   Not-in-family   \n",
      "29      Married-civ-spouse        Craft-repair         Husband   \n",
      "30           Never-married     Protective-serv   Not-in-family   \n",
      "31           Never-married               Sales       Own-child   \n",
      "\n",
      "                   race      sex   capital-gain   capital-loss  \\\n",
      "0                 White     Male           2174              0   \n",
      "1                 White     Male              0              0   \n",
      "2                 White     Male              0              0   \n",
      "3                 Black     Male              0              0   \n",
      "4                 Black   Female              0              0   \n",
      "5                 White   Female              0              0   \n",
      "6                 Black   Female              0              0   \n",
      "7                 White     Male              0              0   \n",
      "8                 White   Female          14084              0   \n",
      "9                 White     Male           5178              0   \n",
      "10                Black     Male              0              0   \n",
      "11   Asian-Pac-Islander     Male              0              0   \n",
      "12                White   Female              0              0   \n",
      "13                Black     Male              0              0   \n",
      "15   Amer-Indian-Eskimo     Male              0              0   \n",
      "16                White     Male              0              0   \n",
      "17                White     Male              0              0   \n",
      "18                White     Male              0              0   \n",
      "19                White   Female              0              0   \n",
      "20                White     Male              0              0   \n",
      "21                Black   Female              0              0   \n",
      "22                Black     Male              0              0   \n",
      "23                White     Male              0           2042   \n",
      "24                White   Female              0              0   \n",
      "25                White     Male              0              0   \n",
      "26                White     Male              0              0   \n",
      "28                White     Male              0              0   \n",
      "29                White     Male              0              0   \n",
      "30                White     Male              0              0   \n",
      "31                Black     Male              0              0   \n",
      "\n",
      "     hours-per-week  native-country  income  \n",
      "0                40   United-States   <=50K  \n",
      "1                13   United-States   <=50K  \n",
      "2                40   United-States   <=50K  \n",
      "3                40   United-States   <=50K  \n",
      "4                40            Cuba   <=50K  \n",
      "5                40   United-States   <=50K  \n",
      "6                16         Jamaica   <=50K  \n",
      "7                45   United-States    >50K  \n",
      "8                50   United-States    >50K  \n",
      "9                40   United-States    >50K  \n",
      "10               80   United-States    >50K  \n",
      "11               40           India    >50K  \n",
      "12               30   United-States   <=50K  \n",
      "13               50   United-States   <=50K  \n",
      "15               45          Mexico   <=50K  \n",
      "16               35   United-States   <=50K  \n",
      "17               40   United-States   <=50K  \n",
      "18               50   United-States   <=50K  \n",
      "19               45   United-States    >50K  \n",
      "20               60   United-States    >50K  \n",
      "21               20   United-States   <=50K  \n",
      "22               40   United-States   <=50K  \n",
      "23               40   United-States   <=50K  \n",
      "24               40   United-States   <=50K  \n",
      "25               40   United-States    >50K  \n",
      "26               40   United-States   <=50K  \n",
      "28               80   United-States   <=50K  \n",
      "29               40   United-States   <=50K  \n",
      "30               52   United-States   <=50K  \n",
      "31               44   United-States   <=50K  \n"
     ]
    }
   ],
   "source": [
    "#removing missing values\n",
    "newdf=newdf.dropna()\n",
    "print(newdf[0:30])"
   ]
  },
  {
   "cell_type": "code",
   "execution_count": 129,
   "metadata": {},
   "outputs": [
    {
     "data": {
      "text/plain": [
       "age                 int64\n",
       " workclass         object\n",
       " education         object\n",
       " education-num      int64\n",
       " marital-status    object\n",
       " occupation        object\n",
       " relationship      object\n",
       " race              object\n",
       " sex               object\n",
       " capital-gain       int64\n",
       " capital-loss       int64\n",
       " hours-per-week     int64\n",
       " native-country    object\n",
       " income            object\n",
       "dtype: object"
      ]
     },
     "execution_count": 129,
     "metadata": {},
     "output_type": "execute_result"
    }
   ],
   "source": [
    "newdf.dtypes"
   ]
  },
  {
   "cell_type": "code",
   "execution_count": 130,
   "metadata": {},
   "outputs": [],
   "source": [
    "#label the categorical variables\n",
    "from sklearn.preprocessing import LabelEncoder\n",
    "le= LabelEncoder()\n",
    "data=newdf[' income']\n",
    "le.fit(data.values)\n",
    "newdf[' income']=le.transform(newdf[' income'])"
   ]
  },
  {
   "cell_type": "code",
   "execution_count": 131,
   "metadata": {},
   "outputs": [
    {
     "data": {
      "text/plain": [
       "age                 int64\n",
       " workclass         object\n",
       " education         object\n",
       " education-num      int64\n",
       " marital-status    object\n",
       " occupation        object\n",
       " relationship      object\n",
       " race              object\n",
       " sex               object\n",
       " capital-gain       int64\n",
       " capital-loss       int64\n",
       " hours-per-week     int64\n",
       " native-country    object\n",
       " income             int64\n",
       "dtype: object"
      ]
     },
     "execution_count": 131,
     "metadata": {},
     "output_type": "execute_result"
    }
   ],
   "source": [
    "newdf.dtypes"
   ]
  },
  {
   "cell_type": "code",
   "execution_count": 132,
   "metadata": {},
   "outputs": [],
   "source": [
    "#split and remove Y in dataset  \n",
    "Y = newdf.iloc[:, -1:].values\n",
    "newdf = newdf.drop(' income', 1)"
   ]
  },
  {
   "cell_type": "code",
   "execution_count": 133,
   "metadata": {},
   "outputs": [
    {
     "name": "stdout",
     "output_type": "stream",
     "text": [
      "['age' ' workclass' ' education' ' education-num' ' marital-status'\n",
      " ' occupation' ' relationship' ' race' ' sex' ' capital-gain'\n",
      " ' capital-loss' ' hours-per-week' ' native-country']\n"
     ]
    }
   ],
   "source": [
    "print(newdf.columns.values)"
   ]
  },
  {
   "cell_type": "code",
   "execution_count": 134,
   "metadata": {},
   "outputs": [],
   "source": [
    "#one hot the categorigal variables\n",
    "for col in newdf.columns.values:\n",
    "    if newdf[col].dtypes=='object':\n",
    "        one_hot = pd.get_dummies(newdf[col])\n",
    "        one_hot = one_hot.add_prefix(col)\n",
    "        newdf = newdf.join(one_hot)             #adding onehot encoded columns to dataframe\n",
    "        newdf = newdf.drop(col, 1) "
   ]
  },
  {
   "cell_type": "code",
   "execution_count": 135,
   "metadata": {},
   "outputs": [
    {
     "name": "stdout",
     "output_type": "stream",
     "text": [
      "   age   education-num   capital-gain   capital-loss   hours-per-week  \\\n",
      "0   39              13           2174              0               40   \n",
      "1   50              13              0              0               13   \n",
      "\n",
      "    workclass Federal-gov   workclass Local-gov   workclass Private  \\\n",
      "0                       0                     0                   0   \n",
      "1                       0                     0                   0   \n",
      "\n",
      "    workclass Self-emp-inc   workclass Self-emp-not-inc  \\\n",
      "0                        0                            0   \n",
      "1                        0                            1   \n",
      "\n",
      "              ...               native-country Portugal  \\\n",
      "0             ...                                     0   \n",
      "1             ...                                     0   \n",
      "\n",
      "    native-country Puerto-Rico   native-country Scotland  \\\n",
      "0                            0                         0   \n",
      "1                            0                         0   \n",
      "\n",
      "    native-country South   native-country Taiwan   native-country Thailand  \\\n",
      "0                      0                       0                         0   \n",
      "1                      0                       0                         0   \n",
      "\n",
      "    native-country Trinadad&Tobago   native-country United-States  \\\n",
      "0                                0                              1   \n",
      "1                                0                              1   \n",
      "\n",
      "    native-country Vietnam   native-country Yugoslavia  \n",
      "0                        0                           0  \n",
      "1                        0                           0  \n",
      "\n",
      "[2 rows x 103 columns]\n"
     ]
    }
   ],
   "source": [
    "print(newdf[0:2])"
   ]
  },
  {
   "cell_type": "code",
   "execution_count": 136,
   "metadata": {},
   "outputs": [
    {
     "data": {
      "text/plain": [
       "age                                           int64\n",
       " education-num                                int64\n",
       " capital-gain                                 int64\n",
       " capital-loss                                 int64\n",
       " hours-per-week                               int64\n",
       " workclass Federal-gov                        uint8\n",
       " workclass Local-gov                          uint8\n",
       " workclass Private                            uint8\n",
       " workclass Self-emp-inc                       uint8\n",
       " workclass Self-emp-not-inc                   uint8\n",
       " workclass State-gov                          uint8\n",
       " workclass Without-pay                        uint8\n",
       " education 10th                               uint8\n",
       " education 11th                               uint8\n",
       " education 12th                               uint8\n",
       " education 1st-4th                            uint8\n",
       " education 5th-6th                            uint8\n",
       " education 7th-8th                            uint8\n",
       " education 9th                                uint8\n",
       " education Assoc-acdm                         uint8\n",
       " education Assoc-voc                          uint8\n",
       " education Bachelors                          uint8\n",
       " education Doctorate                          uint8\n",
       " education HS-grad                            uint8\n",
       " education Masters                            uint8\n",
       " education Preschool                          uint8\n",
       " education Prof-school                        uint8\n",
       " education Some-college                       uint8\n",
       " marital-status Divorced                      uint8\n",
       " marital-status Married-AF-spouse             uint8\n",
       "                                              ...  \n",
       " native-country Greece                        uint8\n",
       " native-country Guatemala                     uint8\n",
       " native-country Haiti                         uint8\n",
       " native-country Holand-Netherlands            uint8\n",
       " native-country Honduras                      uint8\n",
       " native-country Hong                          uint8\n",
       " native-country Hungary                       uint8\n",
       " native-country India                         uint8\n",
       " native-country Iran                          uint8\n",
       " native-country Ireland                       uint8\n",
       " native-country Italy                         uint8\n",
       " native-country Jamaica                       uint8\n",
       " native-country Japan                         uint8\n",
       " native-country Laos                          uint8\n",
       " native-country Mexico                        uint8\n",
       " native-country Nicaragua                     uint8\n",
       " native-country Outlying-US(Guam-USVI-etc)    uint8\n",
       " native-country Peru                          uint8\n",
       " native-country Philippines                   uint8\n",
       " native-country Poland                        uint8\n",
       " native-country Portugal                      uint8\n",
       " native-country Puerto-Rico                   uint8\n",
       " native-country Scotland                      uint8\n",
       " native-country South                         uint8\n",
       " native-country Taiwan                        uint8\n",
       " native-country Thailand                      uint8\n",
       " native-country Trinadad&Tobago               uint8\n",
       " native-country United-States                 uint8\n",
       " native-country Vietnam                       uint8\n",
       " native-country Yugoslavia                    uint8\n",
       "Length: 103, dtype: object"
      ]
     },
     "execution_count": 136,
     "metadata": {},
     "output_type": "execute_result"
    }
   ],
   "source": [
    "newdf.dtypes"
   ]
  },
  {
   "cell_type": "code",
   "execution_count": 137,
   "metadata": {},
   "outputs": [],
   "source": [
    "#split dataset into its attributes and labels\n",
    "X = newdf.values"
   ]
  },
  {
   "cell_type": "code",
   "execution_count": 138,
   "metadata": {},
   "outputs": [
    {
     "name": "stdout",
     "output_type": "stream",
     "text": [
      "[[  39   13 2174    0   40    0    0    0    0    0    1    0    0    0\n",
      "     0    0    0    0    0    0    0    1    0    0    0    0    0    0\n",
      "     0    0    0    0    1    0    0    1    0    0    0    0    0    0\n",
      "     0    0    0    0    0    0    0    0    1    0    0    0    0    0\n",
      "     0    0    0    1    0    1    0    0    0    0    0    0    0    0\n",
      "     0    0    0    0    0    0    0    0    0    0    0    0    0    0\n",
      "     0    0    0    0    0    0    0    0    0    0    0    0    0    0\n",
      "     0    0    1    0    0]\n",
      " [  50   13    0    0   13    0    0    0    0    1    0    0    0    0\n",
      "     0    0    0    0    0    0    0    1    0    0    0    0    0    0\n",
      "     0    0    1    0    0    0    0    0    0    0    1    0    0    0\n",
      "     0    0    0    0    0    0    0    1    0    0    0    0    0    0\n",
      "     0    0    0    1    0    1    0    0    0    0    0    0    0    0\n",
      "     0    0    0    0    0    0    0    0    0    0    0    0    0    0\n",
      "     0    0    0    0    0    0    0    0    0    0    0    0    0    0\n",
      "     0    0    1    0    0]]\n"
     ]
    }
   ],
   "source": [
    "print(X[0:2])"
   ]
  },
  {
   "cell_type": "code",
   "execution_count": 139,
   "metadata": {},
   "outputs": [
    {
     "name": "stderr",
     "output_type": "stream",
     "text": [
      "H:\\Anaconda3\\lib\\site-packages\\sklearn\\utils\\validation.py:475: DataConversionWarning: Data with input dtype int64 was converted to float64 by MinMaxScaler.\n",
      "  warnings.warn(msg, DataConversionWarning)\n"
     ]
    }
   ],
   "source": [
    "#normalize features\n",
    "from sklearn.preprocessing import MinMaxScaler\n",
    "scalar= MinMaxScaler()\n",
    "scalar.fit(X)\n",
    "\n",
    "X = scalar.transform(X)"
   ]
  },
  {
   "cell_type": "code",
   "execution_count": 140,
   "metadata": {},
   "outputs": [
    {
     "name": "stdout",
     "output_type": "stream",
     "text": [
      "[[0.30136986 0.8        0.02174022 0.         0.39795918 0.\n",
      "  0.         0.         0.         0.         1.         0.\n",
      "  0.         0.         0.         0.         0.         0.\n",
      "  0.         0.         0.         1.         0.         0.\n",
      "  0.         0.         0.         0.         0.         0.\n",
      "  0.         0.         1.         0.         0.         1.\n",
      "  0.         0.         0.         0.         0.         0.\n",
      "  0.         0.         0.         0.         0.         0.\n",
      "  0.         0.         1.         0.         0.         0.\n",
      "  0.         0.         0.         0.         0.         1.\n",
      "  0.         1.         0.         0.         0.         0.\n",
      "  0.         0.         0.         0.         0.         0.\n",
      "  0.         0.         0.         0.         0.         0.\n",
      "  0.         0.         0.         0.         0.         0.\n",
      "  0.         0.         0.         0.         0.         0.\n",
      "  0.         0.         0.         0.         0.         0.\n",
      "  0.         0.         0.         0.         1.         0.\n",
      "  0.        ]\n",
      " [0.45205479 0.8        0.         0.         0.12244898 0.\n",
      "  0.         0.         0.         1.         0.         0.\n",
      "  0.         0.         0.         0.         0.         0.\n",
      "  0.         0.         0.         1.         0.         0.\n",
      "  0.         0.         0.         0.         0.         0.\n",
      "  1.         0.         0.         0.         0.         0.\n",
      "  0.         0.         1.         0.         0.         0.\n",
      "  0.         0.         0.         0.         0.         0.\n",
      "  0.         1.         0.         0.         0.         0.\n",
      "  0.         0.         0.         0.         0.         1.\n",
      "  0.         1.         0.         0.         0.         0.\n",
      "  0.         0.         0.         0.         0.         0.\n",
      "  0.         0.         0.         0.         0.         0.\n",
      "  0.         0.         0.         0.         0.         0.\n",
      "  0.         0.         0.         0.         0.         0.\n",
      "  0.         0.         0.         0.         0.         0.\n",
      "  0.         0.         0.         0.         1.         0.\n",
      "  0.        ]]\n"
     ]
    }
   ],
   "source": [
    "print(X[0:2])"
   ]
  },
  {
   "cell_type": "code",
   "execution_count": 141,
   "metadata": {},
   "outputs": [],
   "source": [
    "#training and test split\n",
    "from sklearn.model_selection import train_test_split\n",
    "X_train, X_test, Y_train, Y_test = train_test_split(X,Y, test_size = 0.20)"
   ]
  },
  {
   "cell_type": "code",
   "execution_count": 142,
   "metadata": {},
   "outputs": [],
   "source": [
    "#define and fit the final model\n",
    "model = Sequential()\n",
    "model.add(Dense(1, input_dim=103,kernel_initializer='uniform', activation='sigmoid'))\n",
    "model.compile(loss='binary_crossentropy', optimizer='rmsprop', metrics=['accuracy'])"
   ]
  },
  {
   "cell_type": "code",
   "execution_count": 143,
   "metadata": {},
   "outputs": [
    {
     "name": "stdout",
     "output_type": "stream",
     "text": [
      "Train on 19303 samples, validate on 4826 samples\n",
      "Epoch 1/1000\n",
      "19303/19303 [==============================] - 1s 47us/step - loss: 0.4823 - acc: 0.7684 - val_loss: 0.4060 - val_acc: 0.8145\n",
      "Epoch 2/1000\n",
      "19303/19303 [==============================] - 1s 33us/step - loss: 0.3955 - acc: 0.8179 - val_loss: 0.3771 - val_acc: 0.8286\n",
      "Epoch 3/1000\n",
      "19303/19303 [==============================] - 1s 34us/step - loss: 0.3769 - acc: 0.8259 - val_loss: 0.3666 - val_acc: 0.8301\n",
      "Epoch 4/1000\n",
      "19303/19303 [==============================] - 1s 34us/step - loss: 0.3686 - acc: 0.8294 - val_loss: 0.3608 - val_acc: 0.8305\n",
      "Epoch 5/1000\n",
      "19303/19303 [==============================] - 1s 38us/step - loss: 0.3635 - acc: 0.8302 - val_loss: 0.3574 - val_acc: 0.8307\n",
      "Epoch 6/1000\n",
      "19303/19303 [==============================] - 1s 35us/step - loss: 0.3601 - acc: 0.8310 - val_loss: 0.3548 - val_acc: 0.8334\n",
      "Epoch 7/1000\n",
      "19303/19303 [==============================] - 1s 35us/step - loss: 0.3575 - acc: 0.8312 - val_loss: 0.3537 - val_acc: 0.8311\n",
      "Epoch 8/1000\n",
      "19303/19303 [==============================] - 1s 35us/step - loss: 0.3553 - acc: 0.8322 - val_loss: 0.3511 - val_acc: 0.8326\n",
      "Epoch 9/1000\n",
      "19303/19303 [==============================] - 1s 36us/step - loss: 0.3536 - acc: 0.8335 - val_loss: 0.3503 - val_acc: 0.8336\n",
      "Epoch 10/1000\n",
      "19303/19303 [==============================] - 1s 35us/step - loss: 0.3521 - acc: 0.8343 - val_loss: 0.3499 - val_acc: 0.8336\n",
      "Epoch 11/1000\n",
      "19303/19303 [==============================] - 1s 36us/step - loss: 0.3507 - acc: 0.8349 - val_loss: 0.3484 - val_acc: 0.8353\n",
      "Epoch 12/1000\n",
      "19303/19303 [==============================] - 1s 42us/step - loss: 0.3494 - acc: 0.8347 - val_loss: 0.3472 - val_acc: 0.8359\n",
      "Epoch 13/1000\n",
      "19303/19303 [==============================] - 1s 38us/step - loss: 0.3485 - acc: 0.8353 - val_loss: 0.3469 - val_acc: 0.8359\n",
      "Epoch 14/1000\n",
      "19303/19303 [==============================] - 1s 35us/step - loss: 0.3474 - acc: 0.8358 - val_loss: 0.3458 - val_acc: 0.8361\n",
      "Epoch 15/1000\n",
      "19303/19303 [==============================] - 1s 36us/step - loss: 0.3465 - acc: 0.8358 - val_loss: 0.3452 - val_acc: 0.8365\n",
      "Epoch 16/1000\n",
      "19303/19303 [==============================] - 1s 42us/step - loss: 0.3456 - acc: 0.8371 - val_loss: 0.3443 - val_acc: 0.8369\n",
      "Epoch 17/1000\n",
      "19303/19303 [==============================] - 1s 49us/step - loss: 0.3449 - acc: 0.8372 - val_loss: 0.3445 - val_acc: 0.8363\n",
      "Epoch 18/1000\n",
      "19303/19303 [==============================] - 1s 47us/step - loss: 0.3442 - acc: 0.8381 - val_loss: 0.3440 - val_acc: 0.8373\n",
      "Epoch 19/1000\n",
      "19303/19303 [==============================] - 1s 34us/step - loss: 0.3435 - acc: 0.8382 - val_loss: 0.3430 - val_acc: 0.8369\n",
      "Epoch 20/1000\n",
      "19303/19303 [==============================] - 1s 40us/step - loss: 0.3430 - acc: 0.8386 - val_loss: 0.3425 - val_acc: 0.8365\n",
      "Epoch 21/1000\n",
      "19303/19303 [==============================] - 1s 41us/step - loss: 0.3423 - acc: 0.8381 - val_loss: 0.3421 - val_acc: 0.8373\n",
      "Epoch 22/1000\n",
      "19303/19303 [==============================] - 1s 30us/step - loss: 0.3418 - acc: 0.8385 - val_loss: 0.3427 - val_acc: 0.8367\n",
      "Epoch 23/1000\n",
      "19303/19303 [==============================] - 1s 30us/step - loss: 0.3413 - acc: 0.8395 - val_loss: 0.3426 - val_acc: 0.8361\n",
      "Epoch 24/1000\n",
      "19303/19303 [==============================] - 1s 35us/step - loss: 0.3408 - acc: 0.8401 - val_loss: 0.3410 - val_acc: 0.8400\n",
      "Epoch 25/1000\n",
      "19303/19303 [==============================] - 1s 43us/step - loss: 0.3404 - acc: 0.8405 - val_loss: 0.3409 - val_acc: 0.8375\n",
      "Epoch 26/1000\n",
      "19303/19303 [==============================] - 1s 43us/step - loss: 0.3400 - acc: 0.8393 - val_loss: 0.3405 - val_acc: 0.8392\n",
      "Epoch 27/1000\n",
      "19303/19303 [==============================] - 1s 29us/step - loss: 0.3396 - acc: 0.8405 - val_loss: 0.3408 - val_acc: 0.8365\n",
      "Epoch 28/1000\n",
      "19303/19303 [==============================] - 1s 29us/step - loss: 0.3393 - acc: 0.8416 - val_loss: 0.3403 - val_acc: 0.8386\n",
      "Epoch 29/1000\n",
      "19303/19303 [==============================] - 1s 29us/step - loss: 0.3389 - acc: 0.8417 - val_loss: 0.3398 - val_acc: 0.8392\n",
      "Epoch 30/1000\n",
      "19303/19303 [==============================] - 1s 31us/step - loss: 0.3385 - acc: 0.8416 - val_loss: 0.3398 - val_acc: 0.8384\n",
      "Epoch 31/1000\n",
      "19303/19303 [==============================] - 1s 29us/step - loss: 0.3381 - acc: 0.8416 - val_loss: 0.3393 - val_acc: 0.8404\n",
      "Epoch 32/1000\n",
      "19303/19303 [==============================] - 1s 30us/step - loss: 0.3378 - acc: 0.8424 - val_loss: 0.3393 - val_acc: 0.8384\n",
      "Epoch 33/1000\n",
      "19303/19303 [==============================] - 1s 29us/step - loss: 0.3374 - acc: 0.8420 - val_loss: 0.3393 - val_acc: 0.8378\n",
      "Epoch 34/1000\n",
      "19303/19303 [==============================] - 1s 34us/step - loss: 0.3372 - acc: 0.8432 - val_loss: 0.3390 - val_acc: 0.8378\n",
      "Epoch 35/1000\n",
      "19303/19303 [==============================] - 1s 31us/step - loss: 0.3369 - acc: 0.8424 - val_loss: 0.3384 - val_acc: 0.8402\n",
      "Epoch 36/1000\n",
      "19303/19303 [==============================] - 1s 30us/step - loss: 0.3366 - acc: 0.8432 - val_loss: 0.3383 - val_acc: 0.8402\n",
      "Epoch 37/1000\n",
      "19303/19303 [==============================] - 1s 30us/step - loss: 0.3363 - acc: 0.8438 - val_loss: 0.3380 - val_acc: 0.8407\n",
      "Epoch 38/1000\n",
      "19303/19303 [==============================] - 1s 30us/step - loss: 0.3361 - acc: 0.8432 - val_loss: 0.3382 - val_acc: 0.8392\n",
      "Epoch 39/1000\n",
      "19303/19303 [==============================] - 1s 29us/step - loss: 0.3358 - acc: 0.8434 - val_loss: 0.3379 - val_acc: 0.8390\n",
      "Epoch 40/1000\n",
      "19303/19303 [==============================] - 1s 29us/step - loss: 0.3355 - acc: 0.8446 - val_loss: 0.3376 - val_acc: 0.8407\n",
      "Epoch 41/1000\n",
      "19303/19303 [==============================] - 1s 29us/step - loss: 0.3354 - acc: 0.8434 - val_loss: 0.3379 - val_acc: 0.8392\n",
      "Epoch 42/1000\n",
      "19303/19303 [==============================] - 1s 29us/step - loss: 0.3351 - acc: 0.8441 - val_loss: 0.3378 - val_acc: 0.8394\n",
      "Epoch 43/1000\n",
      "19303/19303 [==============================] - 1s 30us/step - loss: 0.3349 - acc: 0.8443 - val_loss: 0.3371 - val_acc: 0.8421\n",
      "Epoch 44/1000\n",
      "19303/19303 [==============================] - 1s 32us/step - loss: 0.3346 - acc: 0.8450 - val_loss: 0.3370 - val_acc: 0.8415\n",
      "Epoch 45/1000\n",
      "19303/19303 [==============================] - 1s 30us/step - loss: 0.3345 - acc: 0.8444 - val_loss: 0.3371 - val_acc: 0.8415\n",
      "Epoch 46/1000\n",
      "19303/19303 [==============================] - 1s 37us/step - loss: 0.3344 - acc: 0.8439 - val_loss: 0.3368 - val_acc: 0.8429\n",
      "Epoch 47/1000\n",
      "19303/19303 [==============================] - 1s 38us/step - loss: 0.3341 - acc: 0.8450 - val_loss: 0.3368 - val_acc: 0.8429\n",
      "Epoch 48/1000\n",
      "19303/19303 [==============================] - 1s 29us/step - loss: 0.3340 - acc: 0.8457 - val_loss: 0.3367 - val_acc: 0.8427\n",
      "Epoch 49/1000\n",
      "19303/19303 [==============================] - 1s 28us/step - loss: 0.3338 - acc: 0.8452 - val_loss: 0.3366 - val_acc: 0.8427\n",
      "Epoch 50/1000\n",
      "19303/19303 [==============================] - 1s 29us/step - loss: 0.3337 - acc: 0.8458 - val_loss: 0.3365 - val_acc: 0.8427\n",
      "Epoch 51/1000\n",
      "19303/19303 [==============================] - 1s 29us/step - loss: 0.3336 - acc: 0.8455 - val_loss: 0.3368 - val_acc: 0.8415\n",
      "Epoch 52/1000\n",
      "19303/19303 [==============================] - 1s 29us/step - loss: 0.3335 - acc: 0.8455 - val_loss: 0.3363 - val_acc: 0.8431\n",
      "Epoch 53/1000\n",
      "19303/19303 [==============================] - 1s 28us/step - loss: 0.3335 - acc: 0.8448 - val_loss: 0.3362 - val_acc: 0.8440\n",
      "Epoch 54/1000\n",
      "19303/19303 [==============================] - 1s 28us/step - loss: 0.3333 - acc: 0.8459 - val_loss: 0.3361 - val_acc: 0.8442\n",
      "Epoch 55/1000\n",
      "19303/19303 [==============================] - 1s 29us/step - loss: 0.3332 - acc: 0.8460 - val_loss: 0.3363 - val_acc: 0.8427\n",
      "Epoch 56/1000\n",
      "19303/19303 [==============================] - 1s 29us/step - loss: 0.3329 - acc: 0.8458 - val_loss: 0.3361 - val_acc: 0.8431\n",
      "Epoch 57/1000\n",
      "19303/19303 [==============================] - 1s 28us/step - loss: 0.3329 - acc: 0.8457 - val_loss: 0.3363 - val_acc: 0.8421\n"
     ]
    }
   ],
   "source": [
    "#fit the model\n",
    "from keras.callbacks import EarlyStopping \n",
    "early_stopping = EarlyStopping(monitor='val_loss',min_delta=0,patience=3,verbose=0,mode='auto')\n",
    "weights=model.get_weights()\n",
    "history=model.fit(X_train,Y_train,validation_split=0.2,epochs=1000,callbacks = [early_stopping])"
   ]
  },
  {
   "cell_type": "code",
   "execution_count": 25,
   "metadata": {},
   "outputs": [
    {
     "data": {
      "image/png": "[encoded data removed]",
      "text/plain": [
       "<Figure size 432x288 with 1 Axes>"
      ]
     },
     "metadata": {},
     "output_type": "display_data"
    }
   ],
   "source": [
    "# Plot history of loss and validation loss against epoch\n",
    "plt.plot(np.array(history.history['loss']), label=\"train\")\n",
    "plt.plot(np.array(history.history['val_loss']), label=\"validation\")\n",
    "plt.xlabel(\"Epochs\")\n",
    "plt.ylabel(\"Loss\")\n",
    "plt.title(\"Training\")\n",
    "plt.legend()\n",
    "plt.show()"
   ]
  },
  {
   "cell_type": "code",
   "execution_count": 26,
   "metadata": {},
   "outputs": [
    {
     "name": "stdout",
     "output_type": "stream",
     "text": [
      "Test loss: 0.34944469418352603\n",
      "Test accuracy: 0.8395491464110763\n"
     ]
    }
   ],
   "source": [
    "# Test the trained model on the test set\n",
    "score = model.evaluate(X_test, Y_test, verbose=0) \n",
    "print('Test loss:', score[0]) \n",
    "print('Test accuracy:', score[1])"
   ]
  },
  {
   "cell_type": "code",
   "execution_count": 58,
   "metadata": {},
   "outputs": [
    {
     "name": "stdout",
     "output_type": "stream",
     "text": [
      "[[4114  346]\n",
      " [ 622  951]]\n",
      "             precision    recall  f1-score   support\n",
      "\n",
      "          0       0.87      0.92      0.89      4460\n",
      "          1       0.73      0.60      0.66      1573\n",
      "\n",
      "avg / total       0.83      0.84      0.83      6033\n",
      "\n"
     ]
    }
   ],
   "source": [
    "#Predict\n",
    "y_pred = model.predict_classes(X_test)\n",
    "\n",
    "#Evaluating the Algorithm\n",
    "from sklearn.metrics import classification_report, confusion_matrix  \n",
    "print(confusion_matrix(Y_test, y_pred))  \n",
    "print(classification_report(Y_test, y_pred)) "
   ]
  }
 ],
 "metadata": {
  "kernelspec": {
   "display_name": "Python 3",
   "language": "python",
   "name": "python3"
  },
  "language_info": {
   "codemirror_mode": {
    "name": "ipython",
    "version": 3
   },
   "file_extension": ".py",
   "mimetype": "text/x-python",
   "name": "python",
   "nbconvert_exporter": "python",
   "pygments_lexer": "ipython3",
   "version": "3.6.5"
  }
 },
 "nbformat": 4,
 "nbformat_minor": 2
}
