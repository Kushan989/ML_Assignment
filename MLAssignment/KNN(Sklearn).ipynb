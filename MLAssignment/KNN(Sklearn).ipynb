{
 "cells": [
  {
   "cell_type": "code",
   "execution_count": 2,
   "metadata": {},
   "outputs": [],
   "source": [
    "import numpy as np\n",
    "import matplotlib.pyplot as plt\n",
    "import pandas as pd"
   ]
  },
  {
   "cell_type": "code",
   "execution_count": 3,
   "metadata": {},
   "outputs": [
    {
     "name": "stdout",
     "output_type": "stream",
     "text": [
      "   age          workclass   education   education-num          marital-status  \\\n",
      "0   39          State-gov   Bachelors              13           Never-married   \n",
      "1   50   Self-emp-not-inc   Bachelors              13      Married-civ-spouse   \n",
      "2   38            Private     HS-grad               9                Divorced   \n",
      "3   53            Private        11th               7      Married-civ-spouse   \n",
      "4   28            Private   Bachelors              13      Married-civ-spouse   \n",
      "5   37            Private     Masters              14      Married-civ-spouse   \n",
      "6   49            Private         9th               5   Married-spouse-absent   \n",
      "7   52   Self-emp-not-inc     HS-grad               9      Married-civ-spouse   \n",
      "\n",
      "           occupation    relationship    race      sex   capital-gain  \\\n",
      "0        Adm-clerical   Not-in-family   White     Male           2174   \n",
      "1     Exec-managerial         Husband   White     Male              0   \n",
      "2   Handlers-cleaners   Not-in-family   White     Male              0   \n",
      "3   Handlers-cleaners         Husband   Black     Male              0   \n",
      "4      Prof-specialty            Wife   Black   Female              0   \n",
      "5     Exec-managerial            Wife   White   Female              0   \n",
      "6       Other-service   Not-in-family   Black   Female              0   \n",
      "7     Exec-managerial         Husband   White     Male              0   \n",
      "\n",
      "    capital-loss   hours-per-week  native-country  income  \n",
      "0              0               40   United-States   <=50K  \n",
      "1              0               13   United-States   <=50K  \n",
      "2              0               40   United-States   <=50K  \n",
      "3              0               40   United-States   <=50K  \n",
      "4              0               40            Cuba   <=50K  \n",
      "5              0               40   United-States   <=50K  \n",
      "6              0               16         Jamaica   <=50K  \n",
      "7              0               45   United-States    >50K  \n"
     ]
    }
   ],
   "source": [
    "#import data set\n",
    "url = \"Adult_Census_Income_Binary_Classification_dataset.csv\"\n",
    "#read dataset to pandas dataframe\n",
    "dataset = pd.read_csv(url)\n",
    "print(dataset[0:8])"
   ]
  },
  {
   "cell_type": "code",
   "execution_count": 4,
   "metadata": {},
   "outputs": [
    {
     "name": "stdout",
     "output_type": "stream",
     "text": [
      "   age          workclass   education   education-num          marital-status  \\\n",
      "0   39          State-gov   Bachelors              13           Never-married   \n",
      "1   50   Self-emp-not-inc   Bachelors              13      Married-civ-spouse   \n",
      "2   38            Private     HS-grad               9                Divorced   \n",
      "3   53            Private        11th               7      Married-civ-spouse   \n",
      "4   28            Private   Bachelors              13      Married-civ-spouse   \n",
      "5   37            Private     Masters              14      Married-civ-spouse   \n",
      "6   49            Private         9th               5   Married-spouse-absent   \n",
      "7   52   Self-emp-not-inc     HS-grad               9      Married-civ-spouse   \n",
      "\n",
      "           occupation    relationship    race      sex   capital-gain  \\\n",
      "0        Adm-clerical   Not-in-family   White     Male           2174   \n",
      "1     Exec-managerial         Husband   White     Male              0   \n",
      "2   Handlers-cleaners   Not-in-family   White     Male              0   \n",
      "3   Handlers-cleaners         Husband   Black     Male              0   \n",
      "4      Prof-specialty            Wife   Black   Female              0   \n",
      "5     Exec-managerial            Wife   White   Female              0   \n",
      "6       Other-service   Not-in-family   Black   Female              0   \n",
      "7     Exec-managerial         Husband   White     Male              0   \n",
      "\n",
      "    capital-loss   hours-per-week  native-country  income  \n",
      "0              0               40   United-States   <=50K  \n",
      "1              0               13   United-States   <=50K  \n",
      "2              0               40   United-States   <=50K  \n",
      "3              0               40   United-States   <=50K  \n",
      "4              0               40            Cuba   <=50K  \n",
      "5              0               40   United-States   <=50K  \n",
      "6              0               16         Jamaica   <=50K  \n",
      "7              0               45   United-States    >50K  \n"
     ]
    }
   ],
   "source": [
    "#changing missing values to NaN\n",
    "newdf = dataset.replace(r'\\?', np.nan, regex=True)\n",
    "print(newdf[0:8])"
   ]
  },
  {
   "cell_type": "code",
   "execution_count": 5,
   "metadata": {},
   "outputs": [
    {
     "name": "stdout",
     "output_type": "stream",
     "text": [
      "       age          workclass      education   education-num  \\\n",
      "0       39          State-gov      Bachelors              13   \n",
      "1       50   Self-emp-not-inc      Bachelors              13   \n",
      "2       38            Private        HS-grad               9   \n",
      "3       53            Private           11th               7   \n",
      "4       28            Private      Bachelors              13   \n",
      "5       37            Private        Masters              14   \n",
      "6       49            Private            9th               5   \n",
      "7       52   Self-emp-not-inc        HS-grad               9   \n",
      "8       31            Private        Masters              14   \n",
      "9       42            Private      Bachelors              13   \n",
      "10      37            Private   Some-college              10   \n",
      "11      30          State-gov      Bachelors              13   \n",
      "12      23            Private      Bachelors              13   \n",
      "13      32            Private     Assoc-acdm              12   \n",
      "15      34            Private        7th-8th               4   \n",
      "16      25   Self-emp-not-inc        HS-grad               9   \n",
      "17      32            Private        HS-grad               9   \n",
      "18      38            Private           11th               7   \n",
      "19      43   Self-emp-not-inc        Masters              14   \n",
      "20      40            Private      Doctorate              16   \n",
      "21      54            Private        HS-grad               9   \n",
      "22      35        Federal-gov            9th               5   \n",
      "23      43            Private           11th               7   \n",
      "24      59            Private        HS-grad               9   \n",
      "25      56          Local-gov      Bachelors              13   \n",
      "26      19            Private        HS-grad               9   \n",
      "28      39            Private        HS-grad               9   \n",
      "29      49            Private        HS-grad               9   \n",
      "30      23          Local-gov     Assoc-acdm              12   \n",
      "31      20            Private   Some-college              10   \n",
      "...    ...                ...            ...             ...   \n",
      "32526   32            Private           10th               6   \n",
      "32527   22            Private   Some-college              10   \n",
      "32528   31            Private        HS-grad               9   \n",
      "32529   29            Private        HS-grad               9   \n",
      "32532   34            Private      Doctorate              16   \n",
      "32533   54            Private      Bachelors              13   \n",
      "32534   37            Private   Some-college              10   \n",
      "32535   22            Private           12th               8   \n",
      "32536   34            Private      Bachelors              13   \n",
      "32537   30            Private        HS-grad               9   \n",
      "32538   38            Private      Bachelors              13   \n",
      "32540   45          State-gov        HS-grad               9   \n",
      "32543   45          Local-gov     Assoc-acdm              12   \n",
      "32544   31            Private        Masters              14   \n",
      "32545   39          Local-gov     Assoc-acdm              12   \n",
      "32546   37            Private     Assoc-acdm              12   \n",
      "32547   43            Private        HS-grad               9   \n",
      "32548   65   Self-emp-not-inc    Prof-school              15   \n",
      "32549   43          State-gov   Some-college              10   \n",
      "32550   43   Self-emp-not-inc   Some-college              10   \n",
      "32551   32            Private           10th               6   \n",
      "32552   43            Private      Assoc-voc              11   \n",
      "32553   32            Private        Masters              14   \n",
      "32554   53            Private        Masters              14   \n",
      "32555   22            Private   Some-college              10   \n",
      "32556   27            Private     Assoc-acdm              12   \n",
      "32557   40            Private        HS-grad               9   \n",
      "32558   58            Private        HS-grad               9   \n",
      "32559   22            Private        HS-grad               9   \n",
      "32560   52       Self-emp-inc        HS-grad               9   \n",
      "\n",
      "               marital-status          occupation     relationship  \\\n",
      "0               Never-married        Adm-clerical    Not-in-family   \n",
      "1          Married-civ-spouse     Exec-managerial          Husband   \n",
      "2                    Divorced   Handlers-cleaners    Not-in-family   \n",
      "3          Married-civ-spouse   Handlers-cleaners          Husband   \n",
      "4          Married-civ-spouse      Prof-specialty             Wife   \n",
      "5          Married-civ-spouse     Exec-managerial             Wife   \n",
      "6       Married-spouse-absent       Other-service    Not-in-family   \n",
      "7          Married-civ-spouse     Exec-managerial          Husband   \n",
      "8               Never-married      Prof-specialty    Not-in-family   \n",
      "9          Married-civ-spouse     Exec-managerial          Husband   \n",
      "10         Married-civ-spouse     Exec-managerial          Husband   \n",
      "11         Married-civ-spouse      Prof-specialty          Husband   \n",
      "12              Never-married        Adm-clerical        Own-child   \n",
      "13              Never-married               Sales    Not-in-family   \n",
      "15         Married-civ-spouse    Transport-moving          Husband   \n",
      "16              Never-married     Farming-fishing        Own-child   \n",
      "17              Never-married   Machine-op-inspct        Unmarried   \n",
      "18         Married-civ-spouse               Sales          Husband   \n",
      "19                   Divorced     Exec-managerial        Unmarried   \n",
      "20         Married-civ-spouse      Prof-specialty          Husband   \n",
      "21                  Separated       Other-service        Unmarried   \n",
      "22         Married-civ-spouse     Farming-fishing          Husband   \n",
      "23         Married-civ-spouse    Transport-moving          Husband   \n",
      "24                   Divorced        Tech-support        Unmarried   \n",
      "25         Married-civ-spouse        Tech-support          Husband   \n",
      "26              Never-married        Craft-repair        Own-child   \n",
      "28                   Divorced     Exec-managerial    Not-in-family   \n",
      "29         Married-civ-spouse        Craft-repair          Husband   \n",
      "30              Never-married     Protective-serv    Not-in-family   \n",
      "31              Never-married               Sales        Own-child   \n",
      "...                       ...                 ...              ...   \n",
      "32526      Married-civ-spouse    Transport-moving          Husband   \n",
      "32527           Never-married        Adm-clerical        Own-child   \n",
      "32528      Married-civ-spouse   Machine-op-inspct             Wife   \n",
      "32529               Separated               Sales        Unmarried   \n",
      "32532      Married-civ-spouse      Prof-specialty          Husband   \n",
      "32533      Married-civ-spouse     Exec-managerial          Husband   \n",
      "32534                Divorced        Adm-clerical        Unmarried   \n",
      "32535           Never-married     Protective-serv        Own-child   \n",
      "32536           Never-married     Exec-managerial    Not-in-family   \n",
      "32537           Never-married        Craft-repair    Not-in-family   \n",
      "32538                Divorced      Prof-specialty        Unmarried   \n",
      "32540               Separated        Adm-clerical        Own-child   \n",
      "32543                Divorced      Prof-specialty        Unmarried   \n",
      "32544                Divorced       Other-service    Not-in-family   \n",
      "32545      Married-civ-spouse        Adm-clerical             Wife   \n",
      "32546                Divorced        Tech-support    Not-in-family   \n",
      "32547      Married-civ-spouse   Machine-op-inspct          Husband   \n",
      "32548           Never-married      Prof-specialty    Not-in-family   \n",
      "32549                Divorced        Adm-clerical   Other-relative   \n",
      "32550      Married-civ-spouse        Craft-repair          Husband   \n",
      "32551      Married-civ-spouse   Handlers-cleaners          Husband   \n",
      "32552      Married-civ-spouse               Sales          Husband   \n",
      "32553           Never-married        Tech-support    Not-in-family   \n",
      "32554      Married-civ-spouse     Exec-managerial          Husband   \n",
      "32555           Never-married     Protective-serv    Not-in-family   \n",
      "32556      Married-civ-spouse        Tech-support             Wife   \n",
      "32557      Married-civ-spouse   Machine-op-inspct          Husband   \n",
      "32558                 Widowed        Adm-clerical        Unmarried   \n",
      "32559           Never-married        Adm-clerical        Own-child   \n",
      "32560      Married-civ-spouse     Exec-managerial             Wife   \n",
      "\n",
      "                      race      sex   capital-gain   capital-loss  \\\n",
      "0                    White     Male           2174              0   \n",
      "1                    White     Male              0              0   \n",
      "2                    White     Male              0              0   \n",
      "3                    Black     Male              0              0   \n",
      "4                    Black   Female              0              0   \n",
      "5                    White   Female              0              0   \n",
      "6                    Black   Female              0              0   \n",
      "7                    White     Male              0              0   \n",
      "8                    White   Female          14084              0   \n",
      "9                    White     Male           5178              0   \n",
      "10                   Black     Male              0              0   \n",
      "11      Asian-Pac-Islander     Male              0              0   \n",
      "12                   White   Female              0              0   \n",
      "13                   Black     Male              0              0   \n",
      "15      Amer-Indian-Eskimo     Male              0              0   \n",
      "16                   White     Male              0              0   \n",
      "17                   White     Male              0              0   \n",
      "18                   White     Male              0              0   \n",
      "19                   White   Female              0              0   \n",
      "20                   White     Male              0              0   \n",
      "21                   Black   Female              0              0   \n",
      "22                   Black     Male              0              0   \n",
      "23                   White     Male              0           2042   \n",
      "24                   White   Female              0              0   \n",
      "25                   White     Male              0              0   \n",
      "26                   White     Male              0              0   \n",
      "28                   White     Male              0              0   \n",
      "29                   White     Male              0              0   \n",
      "30                   White     Male              0              0   \n",
      "31                   Black     Male              0              0   \n",
      "...                    ...      ...            ...            ...   \n",
      "32526                White     Male              0              0   \n",
      "32527                White     Male              0              0   \n",
      "32528                White   Female              0              0   \n",
      "32529                White   Female              0              0   \n",
      "32532                White     Male              0              0   \n",
      "32533   Asian-Pac-Islander     Male              0              0   \n",
      "32534                White   Female              0              0   \n",
      "32535                Black     Male              0              0   \n",
      "32536                White   Female              0              0   \n",
      "32537                Black     Male              0              0   \n",
      "32538                Black   Female          15020              0   \n",
      "32540                White   Female              0              0   \n",
      "32543                White   Female              0              0   \n",
      "32544                Other   Female              0              0   \n",
      "32545                White   Female              0              0   \n",
      "32546                White   Female              0              0   \n",
      "32547                White     Male              0              0   \n",
      "32548                White     Male           1086              0   \n",
      "32549                White   Female              0              0   \n",
      "32550                White     Male              0              0   \n",
      "32551   Amer-Indian-Eskimo     Male              0              0   \n",
      "32552                White     Male              0              0   \n",
      "32553   Asian-Pac-Islander     Male              0              0   \n",
      "32554                White     Male              0              0   \n",
      "32555                White     Male              0              0   \n",
      "32556                White   Female              0              0   \n",
      "32557                White     Male              0              0   \n",
      "32558                White   Female              0              0   \n",
      "32559                White     Male              0              0   \n",
      "32560                White   Female          15024              0   \n",
      "\n",
      "        hours-per-week  native-country  income  \n",
      "0                   40   United-States   <=50K  \n",
      "1                   13   United-States   <=50K  \n",
      "2                   40   United-States   <=50K  \n",
      "3                   40   United-States   <=50K  \n",
      "4                   40            Cuba   <=50K  \n",
      "5                   40   United-States   <=50K  \n",
      "6                   16         Jamaica   <=50K  \n",
      "7                   45   United-States    >50K  \n",
      "8                   50   United-States    >50K  \n",
      "9                   40   United-States    >50K  \n",
      "10                  80   United-States    >50K  \n",
      "11                  40           India    >50K  \n",
      "12                  30   United-States   <=50K  \n",
      "13                  50   United-States   <=50K  \n",
      "15                  45          Mexico   <=50K  \n",
      "16                  35   United-States   <=50K  \n",
      "17                  40   United-States   <=50K  \n",
      "18                  50   United-States   <=50K  \n",
      "19                  45   United-States    >50K  \n",
      "20                  60   United-States    >50K  \n",
      "21                  20   United-States   <=50K  \n",
      "22                  40   United-States   <=50K  \n",
      "23                  40   United-States   <=50K  \n",
      "24                  40   United-States   <=50K  \n",
      "25                  40   United-States    >50K  \n",
      "26                  40   United-States   <=50K  \n",
      "28                  80   United-States   <=50K  \n",
      "29                  40   United-States   <=50K  \n",
      "30                  52   United-States   <=50K  \n",
      "31                  44   United-States   <=50K  \n",
      "...                ...             ...     ...  \n",
      "32526               40   United-States   <=50K  \n",
      "32527               40   United-States   <=50K  \n",
      "32528               40   United-States   <=50K  \n",
      "32529               35   United-States   <=50K  \n",
      "32532               60   United-States    >50K  \n",
      "32533               50           Japan    >50K  \n",
      "32534               39   United-States   <=50K  \n",
      "32535               35   United-States   <=50K  \n",
      "32536               55   United-States    >50K  \n",
      "32537               46   United-States   <=50K  \n",
      "32538               45   United-States    >50K  \n",
      "32540               40   United-States   <=50K  \n",
      "32543               48   United-States   <=50K  \n",
      "32544               30   United-States   <=50K  \n",
      "32545               20   United-States    >50K  \n",
      "32546               40   United-States   <=50K  \n",
      "32547               40          Mexico   <=50K  \n",
      "32548               60   United-States   <=50K  \n",
      "32549               40   United-States   <=50K  \n",
      "32550               50   United-States   <=50K  \n",
      "32551               40   United-States   <=50K  \n",
      "32552               45   United-States   <=50K  \n",
      "32553               11          Taiwan   <=50K  \n",
      "32554               40   United-States    >50K  \n",
      "32555               40   United-States   <=50K  \n",
      "32556               38   United-States   <=50K  \n",
      "32557               40   United-States    >50K  \n",
      "32558               40   United-States   <=50K  \n",
      "32559               20   United-States   <=50K  \n",
      "32560               40   United-States    >50K  \n",
      "\n",
      "[30162 rows x 14 columns]\n"
     ]
    }
   ],
   "source": [
    "#removing missing values\n",
    "newdf=newdf.dropna()\n",
    "print(newdf)"
   ]
  },
  {
   "cell_type": "code",
   "execution_count": 6,
   "metadata": {},
   "outputs": [
    {
     "data": {
      "text/plain": [
       "age                 int64\n",
       " workclass         object\n",
       " education         object\n",
       " education-num      int64\n",
       " marital-status    object\n",
       " occupation        object\n",
       " relationship      object\n",
       " race              object\n",
       " sex               object\n",
       " capital-gain       int64\n",
       " capital-loss       int64\n",
       " hours-per-week     int64\n",
       " native-country    object\n",
       " income            object\n",
       "dtype: object"
      ]
     },
     "execution_count": 6,
     "metadata": {},
     "output_type": "execute_result"
    }
   ],
   "source": [
    "newdf.dtypes"
   ]
  },
  {
   "cell_type": "code",
   "execution_count": 7,
   "metadata": {},
   "outputs": [],
   "source": [
    "#Label the categorigal variables\n",
    "from sklearn.preprocessing import LabelEncoder\n",
    "le= LabelEncoder()\n",
    "for col in newdf.columns.values:\n",
    "    if newdf[col].dtypes=='object':\n",
    "        data=newdf[col]\n",
    "        le.fit(data.values)\n",
    "        newdf[col]=le.transform(newdf[col])\n",
    "  "
   ]
  },
  {
   "cell_type": "code",
   "execution_count": 8,
   "metadata": {},
   "outputs": [
    {
     "name": "stdout",
     "output_type": "stream",
     "text": [
      "   age   workclass   education   education-num   marital-status   occupation  \\\n",
      "0   39           5           9              13                4            0   \n",
      "1   50           4           9              13                2            3   \n",
      "2   38           2          11               9                0            5   \n",
      "3   53           2           1               7                2            5   \n",
      "4   28           2           9              13                2            9   \n",
      "\n",
      "    relationship   race   sex   capital-gain   capital-loss   hours-per-week  \\\n",
      "0              1      4     1           2174              0               40   \n",
      "1              0      4     1              0              0               13   \n",
      "2              1      4     1              0              0               40   \n",
      "3              0      2     1              0              0               40   \n",
      "4              5      2     0              0              0               40   \n",
      "\n",
      "    native-country   income  \n",
      "0               38        0  \n",
      "1               38        0  \n",
      "2               38        0  \n",
      "3               38        0  \n",
      "4                4        0  \n"
     ]
    }
   ],
   "source": [
    "print(newdf[0:5])"
   ]
  },
  {
   "cell_type": "code",
   "execution_count": 9,
   "metadata": {},
   "outputs": [],
   "source": [
    "#split dataset into its attributes and labels\n",
    "X = newdf.iloc[:, :-1].values\n",
    "Y = newdf.iloc[:, 13].values"
   ]
  },
  {
   "cell_type": "code",
   "execution_count": 10,
   "metadata": {},
   "outputs": [
    {
     "name": "stderr",
     "output_type": "stream",
     "text": [
      "H:\\Anaconda3\\lib\\site-packages\\sklearn\\utils\\validation.py:475: DataConversionWarning: Data with input dtype int64 was converted to float64 by MinMaxScaler.\n",
      "  warnings.warn(msg, DataConversionWarning)\n"
     ]
    }
   ],
   "source": [
    "#normalize features\n",
    "from sklearn.preprocessing import MinMaxScaler\n",
    "scalar= MinMaxScaler()\n",
    "scalar.fit(X)\n",
    "\n",
    "X = scalar.transform(X)"
   ]
  },
  {
   "cell_type": "code",
   "execution_count": 11,
   "metadata": {},
   "outputs": [
    {
     "name": "stdout",
     "output_type": "stream",
     "text": [
      "[[0.30136986 0.83333333 0.6        0.8        0.66666667 0.\n",
      "  0.2        1.         1.         0.02174022 0.         0.39795918\n",
      "  0.95      ]\n",
      " [0.45205479 0.66666667 0.6        0.8        0.33333333 0.23076923\n",
      "  0.         1.         1.         0.         0.         0.12244898\n",
      "  0.95      ]\n",
      " [0.28767123 0.33333333 0.73333333 0.53333333 0.         0.38461538\n",
      "  0.2        1.         1.         0.         0.         0.39795918\n",
      "  0.95      ]]\n"
     ]
    }
   ],
   "source": [
    "print(X[0:3])"
   ]
  },
  {
   "cell_type": "code",
   "execution_count": 14,
   "metadata": {},
   "outputs": [],
   "source": [
    "#training and test split\n",
    "from sklearn.neighbors import KNeighborsClassifier\n",
    "from sklearn.model_selection import train_test_split\n",
    "X_train, X_test, Y_train, Y_test = train_test_split(X,Y, test_size = 0.20)"
   ]
  },
  {
   "cell_type": "code",
   "execution_count": 25,
   "metadata": {},
   "outputs": [],
   "source": [
    "#normalize features\n",
    "#from sklearn.preprocessing import StandardScaler\n",
    "#scaler = StandardScaler()\n",
    "#scaler.fit(X_train)\n",
    "\n",
    "#X_train = scaler.transform(X_train)\n",
    "#X_test = scaler.transform(X_test)"
   ]
  },
  {
   "cell_type": "code",
   "execution_count": 15,
   "metadata": {},
   "outputs": [],
   "source": [
    "#comparing error with K value\n",
    "error = []\n",
    "\n",
    "# Calculating error for K values between 1 and 40\n",
    "for i in range(1, 40):  \n",
    "    knn = KNeighborsClassifier(n_neighbors=i)\n",
    "    knn.fit(X_train, Y_train)\n",
    "    pred_i = knn.predict(X_test)\n",
    "    error.append(np.mean(pred_i != Y_test))"
   ]
  },
  {
   "cell_type": "code",
   "execution_count": 16,
   "metadata": {},
   "outputs": [
    {
     "data": {
      "text/plain": [
       "Text(0,0.5,'Mean Error')"
      ]
     },
     "execution_count": 16,
     "metadata": {},
     "output_type": "execute_result"
    },
    {
     "data": {
      "image/png": "[encoded data removed]",
      "text/plain": [
       "<Figure size 864x432 with 1 Axes>"
      ]
     },
     "metadata": {},
     "output_type": "display_data"
    }
   ],
   "source": [
    "#plotting error vs K  values\n",
    "plt.figure(figsize=(12, 6))  \n",
    "plt.plot(range(1, 40), error, color='red', linestyle='dashed', marker='o',  \n",
    "         markerfacecolor='blue', markersize=10)\n",
    "plt.title('Error Rate K Value')  \n",
    "plt.xlabel('K Value')  \n",
    "plt.ylabel('Mean Error')  "
   ]
  },
  {
   "cell_type": "code",
   "execution_count": 34,
   "metadata": {},
   "outputs": [
    {
     "data": {
      "text/plain": [
       "KNeighborsClassifier(algorithm='auto', leaf_size=30, metric='minkowski',\n",
       "           metric_params=None, n_jobs=1, n_neighbors=26, p=2,\n",
       "           weights='uniform')"
      ]
     },
     "execution_count": 34,
     "metadata": {},
     "output_type": "execute_result"
    }
   ],
   "source": [
    "#training \n",
    "from sklearn.neighbors import KNeighborsClassifier\n",
    "classifier = KNeighborsClassifier(n_neighbors=26)\n",
    "classifier.fit(X_train,Y_train)"
   ]
  },
  {
   "cell_type": "code",
   "execution_count": 35,
   "metadata": {},
   "outputs": [],
   "source": [
    "#Predict\n",
    "y_pred = classifier.predict(X_test)"
   ]
  },
  {
   "cell_type": "code",
   "execution_count": 36,
   "metadata": {},
   "outputs": [
    {
     "name": "stdout",
     "output_type": "stream",
     "text": [
      "[[4168  359]\n",
      " [ 691  815]]\n",
      "             precision    recall  f1-score   support\n",
      "\n",
      "          0       0.86      0.92      0.89      4527\n",
      "          1       0.69      0.54      0.61      1506\n",
      "\n",
      "avg / total       0.82      0.83      0.82      6033\n",
      "\n"
     ]
    }
   ],
   "source": [
    "#Evaluating the Algorithm\n",
    "from sklearn.metrics import classification_report, confusion_matrix  \n",
    "print(confusion_matrix(Y_test, y_pred))  \n",
    "print(classification_report(Y_test, y_pred)) "
   ]
  }
 ],
 "metadata": {
  "kernelspec": {
   "display_name": "Python 3",
   "language": "python",
   "name": "python3"
  },
  "language_info": {
   "codemirror_mode": {
    "name": "ipython",
    "version": 3
   },
   "file_extension": ".py",
   "mimetype": "text/x-python",
   "name": "python",
   "nbconvert_exporter": "python",
   "pygments_lexer": "ipython3",
   "version": "3.6.5"
  }
 },
 "nbformat": 4,
 "nbformat_minor": 2
}
